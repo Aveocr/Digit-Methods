{
 "cells": [
  {
   "cell_type": "code",
   "execution_count": 22,
   "metadata": {
    "collapsed": true,
    "pycharm": {
     "name": "#%%\n"
    }
   },
   "outputs": [],
   "source": [
    "# 14 КОМБИНИРОВАННЫЙ МЕТОД ХОРД И КАСАТЕЛЬНЫХ\n",
    "import pandas as pd\n",
    "\n",
    "epsilon = 0.001\n",
    "def F(x):\n",
    "    return round(x**3 + 2*x + 4, 4) # $∃ x_1 \\in [0;1] $\n",
    "\n",
    "def F_derive(x):\n",
    "    return round(3 * x**2 + 2, 4)"
   ]
  },
  {
   "cell_type": "code",
   "execution_count": 32,
   "outputs": [
    {
     "name": "stdout",
     "output_type": "stream",
     "text": [
      "F(-1)F(-2) = 1*-8 = -8<0\n"
     ]
    }
   ],
   "source": [
    "print(f\"F(-1)F(-2) = {F(-1)}*{F(-2)} = {F(-1)*F(-2)}<0\")"
   ],
   "metadata": {
    "collapsed": false,
    "pycharm": {
     "name": "#%%\n"
    }
   }
  },
  {
   "cell_type": "markdown",
   "source": [
    "Так как выполняется равенство $F(-1)F^{''}(-2) > 0$ положим $x_0 = a$, $x_0^{*} = b$, то есть $x_0 = -1$, $x_0^{*} = -2 $"
   ],
   "metadata": {
    "collapsed": false,
    "pycharm": {
     "name": "#%% md\n"
    }
   }
  },
  {
   "cell_type": "code",
   "execution_count": 27,
   "outputs": [],
   "source": [
    "def x_0_new(x_0, x_1):\n",
    "    return round((x_0 * F(x_1) - x_1 * (F(x_0))) / (F(x_1) - F(x_0)), 4)\n",
    "\n",
    "def x_1_new(x_1):\n",
    "    return round(x_1 - F(x_1) / F_derive(x_1), 4)"
   ],
   "metadata": {
    "collapsed": false,
    "pycharm": {
     "name": "#%%\n"
    }
   }
  },
  {
   "cell_type": "code",
   "execution_count": 33,
   "outputs": [],
   "source": [
    "import pandas as pd\n",
    "import numpy as np"
   ],
   "metadata": {
    "collapsed": false,
    "pycharm": {
     "name": "#%%\n"
    }
   }
  },
  {
   "cell_type": "code",
   "execution_count": 51,
   "outputs": [
    {
     "name": "stdout",
     "output_type": "stream",
     "text": [
      "n\t|x_{n-1}|x*_{n-1}|F(x_{n-1})|F(x*_{n-1})|F'(x_{n-1})|x_n||x*_n|, |abs(x_n-x*)|\n",
      "1\t-1|-1.4286|1|-8|14|-1.1111|-1.4286|0.3175\n",
      "2\t-1.1111|-1.2103|0.4061|-1.7728|8.1227|-1.1703|-1.2103|0.04\n",
      "3\t-1.1703|-1.18|0.0566|-0.1935|6.3945|-1.1794|-1.18|0.0006\n"
     ]
    }
   ],
   "source": [
    "i = 0\n",
    "x_0 = [-1]\n",
    "x_1 = [-2]\n",
    "delta = []\n",
    "print(\"n\\t|x_{n-1}|x*_{n-1}|F(x_{n-1})|F(x*_{n-1})|F'(x_{n-1})|x_n||x*_n|, |abs(x_n-x*)|\")\n",
    "while True:\n",
    "    if abs(x_0[i] - x_1[i]) < epsilon:\n",
    "        break\n",
    "    else:\n",
    "        x_0.append(round(x_0_new(x_0[i], x_1[i]), 4))\n",
    "        x_1.append(round(x_1_new(x_1[i]), 4))\n",
    "        i += 1\n",
    "        delta.append(round(abs(x_0[i]-x_1[i]), 4))\n",
    "        print(f\"{i}\\t{x_0[i-1]}|{x_1[-1]}|{F(x_0[i-1])}|{F(x_1[i-1])}|{F_derive(x_1[i-1])}|{x_0[i]}|{x_1[i]}|{delta[i-1]}\")"
   ],
   "metadata": {
    "collapsed": false,
    "pycharm": {
     "name": "#%%\n"
    }
   }
  },
  {
   "cell_type": "code",
   "execution_count": 52,
   "outputs": [],
   "source": [
    "a = pd.DataFrame({\"x_{n-1}\": x_0[:len(x_0)-1],\n",
    "                  \"x*{n_1}\": x_1[:len(x_1)-1],\n",
    "                  \"F(x_{n-1}\": [F(i) for i in x_0[:len(x_0)-1]],\n",
    "                  \"F(x*_{n-1}\": [F(i) for i in x_0[:len(x_1)-1]],\n",
    "                  \"F'(x_{n-1}\": [F_derive(i) for i in x_0[:len(x_0)-1]],\n",
    "                  \"x_n\": x_0[1:],\n",
    "                  \"x*_n\": x_1[1:],\n",
    "                  \"|x_n - x*_n|\": delta\n",
    "                  })"
   ],
   "metadata": {
    "collapsed": false,
    "pycharm": {
     "name": "#%%\n"
    }
   }
  },
  {
   "cell_type": "code",
   "execution_count": 57,
   "outputs": [
    {
     "data": {
      "text/plain": "   x_{n-1}  x*{n_1}  F(x_{n-1}  F(x*_{n-1}  F'(x_{n-1}     x_n    x*_n  \\\n0  -1.0000  -2.0000     1.0000      1.0000      5.0000 -1.1111 -1.4286   \n1  -1.1111  -1.4286     0.4061      0.4061      5.7036 -1.1703 -1.2103   \n2  -1.1703  -1.2103     0.0566      0.0566      6.1088 -1.1794 -1.1800   \n\n   |x_n - x*_n|  \n0        0.3175  \n1        0.0400  \n2        0.0006  ",
      "text/html": "<div>\n<style scoped>\n    .dataframe tbody tr th:only-of-type {\n        vertical-align: middle;\n    }\n\n    .dataframe tbody tr th {\n        vertical-align: top;\n    }\n\n    .dataframe thead th {\n        text-align: right;\n    }\n</style>\n<table border=\"1\" class=\"dataframe\">\n  <thead>\n    <tr style=\"text-align: right;\">\n      <th></th>\n      <th>x_{n-1}</th>\n      <th>x*{n_1}</th>\n      <th>F(x_{n-1}</th>\n      <th>F(x*_{n-1}</th>\n      <th>F'(x_{n-1}</th>\n      <th>x_n</th>\n      <th>x*_n</th>\n      <th>|x_n - x*_n|</th>\n    </tr>\n  </thead>\n  <tbody>\n    <tr>\n      <th>0</th>\n      <td>-1.0000</td>\n      <td>-2.0000</td>\n      <td>1.0000</td>\n      <td>1.0000</td>\n      <td>5.0000</td>\n      <td>-1.1111</td>\n      <td>-1.4286</td>\n      <td>0.3175</td>\n    </tr>\n    <tr>\n      <th>1</th>\n      <td>-1.1111</td>\n      <td>-1.4286</td>\n      <td>0.4061</td>\n      <td>0.4061</td>\n      <td>5.7036</td>\n      <td>-1.1703</td>\n      <td>-1.2103</td>\n      <td>0.0400</td>\n    </tr>\n    <tr>\n      <th>2</th>\n      <td>-1.1703</td>\n      <td>-1.2103</td>\n      <td>0.0566</td>\n      <td>0.0566</td>\n      <td>6.1088</td>\n      <td>-1.1794</td>\n      <td>-1.1800</td>\n      <td>0.0006</td>\n    </tr>\n  </tbody>\n</table>\n</div>"
     },
     "execution_count": 57,
     "metadata": {},
     "output_type": "execute_result"
    }
   ],
   "source": [
    "a # среднее брать"
   ],
   "metadata": {
    "collapsed": false,
    "pycharm": {
     "name": "#%%\n"
    }
   }
  }
 ],
 "metadata": {
  "kernelspec": {
   "display_name": "Python 3",
   "language": "python",
   "name": "python3"
  },
  "language_info": {
   "codemirror_mode": {
    "name": "ipython",
    "version": 2
   },
   "file_extension": ".py",
   "mimetype": "text/x-python",
   "name": "python",
   "nbconvert_exporter": "python",
   "pygments_lexer": "ipython2",
   "version": "2.7.6"
  }
 },
 "nbformat": 4,
 "nbformat_minor": 0
}