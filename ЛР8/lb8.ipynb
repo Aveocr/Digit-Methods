{
 "cells": [
  {
   "cell_type": "code",
   "execution_count": 8,
   "metadata": {
    "collapsed": true,
    "pycharm": {
     "name": "#%%\n"
    }
   },
   "outputs": [],
   "source": [
    "epsilon = 0.001\n",
    "def F(x):\n",
    "    return round(x**3 - 3 * x**2 + 9 * x - 10, 4) # $∃ x_1 \\in [0;1] $\n",
    "\n",
    "def F_derive(x):\n",
    "    return round(3 * x**2 + 6*x+9, 4)"
   ]
  },
  {
   "cell_type": "code",
   "execution_count": 75,
   "outputs": [
    {
     "data": {
      "text/plain": "9"
     },
     "execution_count": 75,
     "metadata": {},
     "output_type": "execute_result"
    }
   ],
   "source": [
    "np.polyval(np.polyder(uran), 2)"
   ],
   "metadata": {
    "collapsed": false,
    "pycharm": {
     "name": "#%%\n"
    }
   }
  },
  {
   "cell_type": "code",
   "execution_count": 76,
   "outputs": [
    {
     "name": "stdout",
     "output_type": "stream",
     "text": [
      "0.1\n"
     ]
    }
   ],
   "source": [
    "C = round(1 /10, 4)\n",
    "print(round(C, 4))"
   ],
   "metadata": {
    "collapsed": false,
    "pycharm": {
     "name": "#%%\n"
    }
   }
  },
  {
   "cell_type": "code",
   "execution_count": 77,
   "outputs": [],
   "source": [
    "import numpy as np\n",
    "\n",
    "uran = np.array([1, -3, 9, -10])"
   ],
   "metadata": {
    "collapsed": false,
    "pycharm": {
     "name": "#%%\n"
    }
   }
  },
  {
   "cell_type": "code",
   "execution_count": 78,
   "outputs": [],
   "source": [
    "uran = -C * uran\n",
    "uran[2] = 1 + uran[2]"
   ],
   "metadata": {
    "collapsed": false,
    "pycharm": {
     "name": "#%%\n"
    }
   }
  },
  {
   "cell_type": "code",
   "execution_count": 88,
   "outputs": [
    {
     "data": {
      "text/plain": "array([-0.1,  0.3,  0.1,  1. ])"
     },
     "execution_count": 88,
     "metadata": {},
     "output_type": "execute_result"
    }
   ],
   "source": [
    "uran"
   ],
   "metadata": {
    "collapsed": false,
    "pycharm": {
     "name": "#%%\n"
    }
   }
  },
  {
   "cell_type": "code",
   "execution_count": 87,
   "outputs": [
    {
     "data": {
      "text/plain": "0.09999999999999998"
     },
     "execution_count": 87,
     "metadata": {},
     "output_type": "execute_result"
    }
   ],
   "source": [
    "np.polyval(np.polyder(uran), 2)"
   ],
   "metadata": {
    "collapsed": false,
    "pycharm": {
     "name": "#%%\n"
    }
   }
  },
  {
   "cell_type": "code",
   "execution_count": 85,
   "outputs": [
    {
     "data": {
      "text/plain": "array([-0.6,  0.6])"
     },
     "execution_count": 85,
     "metadata": {},
     "output_type": "execute_result"
    }
   ],
   "source": [
    "np.polyder(np.polyder(uran))"
   ],
   "metadata": {
    "collapsed": false,
    "pycharm": {
     "name": "#%%\n"
    }
   }
  },
  {
   "cell_type": "code",
   "execution_count": 55,
   "outputs": [],
   "source": [
    "uran[0] *= 3\n",
    "uran[1] *= 2\n",
    "uran[2] *= 1\n",
    "uran[3] *= 0"
   ],
   "metadata": {
    "collapsed": false,
    "pycharm": {
     "name": "#%%\n"
    }
   }
  },
  {
   "cell_type": "code",
   "execution_count": 60,
   "outputs": [
    {
     "data": {
      "text/plain": "array([-0.0882,  0.1764,  0.7354,  0.    ])"
     },
     "execution_count": 60,
     "metadata": {},
     "output_type": "execute_result"
    }
   ],
   "source": [
    "uran"
   ],
   "metadata": {
    "collapsed": false,
    "pycharm": {
     "name": "#%%\n"
    }
   }
  },
  {
   "cell_type": "code",
   "execution_count": 59,
   "outputs": [
    {
     "data": {
      "text/plain": "1.4708"
     },
     "execution_count": 59,
     "metadata": {},
     "output_type": "execute_result"
    }
   ],
   "source": [
    "np.round(np.polyval(uran, 2), 4)"
   ],
   "metadata": {
    "collapsed": false,
    "pycharm": {
     "name": "#%%\n"
    }
   }
  },
  {
   "cell_type": "code",
   "execution_count": 48,
   "outputs": [],
   "source": [
    "uran[0] *= 2\n",
    "uran[1] *= 1\n",
    "uran[2] *= 0\n",
    "uran[3] *= 0"
   ],
   "metadata": {
    "collapsed": false,
    "pycharm": {
     "name": "#%%\n"
    }
   }
  },
  {
   "cell_type": "code",
   "execution_count": 51,
   "outputs": [
    {
     "data": {
      "text/plain": "-0.7056"
     },
     "execution_count": 51,
     "metadata": {},
     "output_type": "execute_result"
    }
   ],
   "source": [
    "np.polyval(uran, 2)"
   ],
   "metadata": {
    "collapsed": false,
    "pycharm": {
     "name": "#%%\n"
    }
   }
  },
  {
   "cell_type": "code",
   "execution_count": 94,
   "outputs": [
    {
     "data": {
      "text/plain": "    x_n-1     x_n  |x_n-x_n-1|\n0  1.0000  1.3000       0.3000\n1  1.3000  1.4173       0.1173\n2  1.4173  1.4597       0.0424\n3  1.4597  1.4742       0.0145\n4  1.4742  1.4790       0.0048\n5  1.4790  1.4806       0.0016\n6  1.4806  1.4811       0.0005",
      "text/html": "<div>\n<style scoped>\n    .dataframe tbody tr th:only-of-type {\n        vertical-align: middle;\n    }\n\n    .dataframe tbody tr th {\n        vertical-align: top;\n    }\n\n    .dataframe thead th {\n        text-align: right;\n    }\n</style>\n<table border=\"1\" class=\"dataframe\">\n  <thead>\n    <tr style=\"text-align: right;\">\n      <th></th>\n      <th>x_n-1</th>\n      <th>x_n</th>\n      <th>|x_n-x_n-1|</th>\n    </tr>\n  </thead>\n  <tbody>\n    <tr>\n      <th>0</th>\n      <td>1.0000</td>\n      <td>1.3000</td>\n      <td>0.3000</td>\n    </tr>\n    <tr>\n      <th>1</th>\n      <td>1.3000</td>\n      <td>1.4173</td>\n      <td>0.1173</td>\n    </tr>\n    <tr>\n      <th>2</th>\n      <td>1.4173</td>\n      <td>1.4597</td>\n      <td>0.0424</td>\n    </tr>\n    <tr>\n      <th>3</th>\n      <td>1.4597</td>\n      <td>1.4742</td>\n      <td>0.0145</td>\n    </tr>\n    <tr>\n      <th>4</th>\n      <td>1.4742</td>\n      <td>1.4790</td>\n      <td>0.0048</td>\n    </tr>\n    <tr>\n      <th>5</th>\n      <td>1.4790</td>\n      <td>1.4806</td>\n      <td>0.0016</td>\n    </tr>\n    <tr>\n      <th>6</th>\n      <td>1.4806</td>\n      <td>1.4811</td>\n      <td>0.0005</td>\n    </tr>\n  </tbody>\n</table>\n</div>"
     },
     "execution_count": 94,
     "metadata": {},
     "output_type": "execute_result"
    }
   ],
   "source": [
    "import numpy as np\n",
    "import pandas as pd\n",
    "x = [1]\n",
    "delta = []\n",
    "while True:\n",
    "    x.append(np.round(np.polyval(uran, x[-1]),4))\n",
    "    delta.append(x[-1]-x[-2])\n",
    "    if delta[-1] < epsilon:\n",
    "        a = pd.DataFrame({\"x_n-1\": x[:-1],\n",
    "                           \"x_n\": x[1:],\n",
    "                          \"|x_n-x_n-1|\": delta})\n",
    "        break\n",
    "\n",
    "\n",
    "a"
   ],
   "metadata": {
    "collapsed": false,
    "pycharm": {
     "name": "#%%\n"
    }
   }
  },
  {
   "cell_type": "code",
   "execution_count": 95,
   "outputs": [
    {
     "name": "stdout",
     "output_type": "stream",
     "text": [
      "\\begin{tabular}{lrrr}\n",
      "\\toprule\n",
      "{} &   x\\_n-1 &     x\\_n &  |x\\_n-x\\_n-1| \\\\\n",
      "\\midrule\n",
      "0 &  1.0000 &  1.3000 &       0.3000 \\\\\n",
      "1 &  1.3000 &  1.4173 &       0.1173 \\\\\n",
      "2 &  1.4173 &  1.4597 &       0.0424 \\\\\n",
      "3 &  1.4597 &  1.4742 &       0.0145 \\\\\n",
      "4 &  1.4742 &  1.4790 &       0.0048 \\\\\n",
      "5 &  1.4790 &  1.4806 &       0.0016 \\\\\n",
      "6 &  1.4806 &  1.4811 &       0.0005 \\\\\n",
      "\\bottomrule\n",
      "\\end{tabular}\n",
      "\n"
     ]
    },
    {
     "name": "stderr",
     "output_type": "stream",
     "text": [
      "<ipython-input-95-d10ea41283f4>:1: FutureWarning: In future versions `DataFrame.to_latex` is expected to utilise the base implementation of `Styler.to_latex` for formatting and rendering. The arguments signature may therefore change. It is recommended instead to use `DataFrame.style.to_latex` which also contains additional functionality.\n",
      "  print(a.to_latex())\n"
     ]
    }
   ],
   "source": [
    "print(a.to_latex())"
   ],
   "metadata": {
    "collapsed": false,
    "pycharm": {
     "name": "#%%\n"
    }
   }
  }
 ],
 "metadata": {
  "kernelspec": {
   "display_name": "Python 3",
   "language": "python",
   "name": "python3"
  },
  "language_info": {
   "codemirror_mode": {
    "name": "ipython",
    "version": 2
   },
   "file_extension": ".py",
   "mimetype": "text/x-python",
   "name": "python",
   "nbconvert_exporter": "python",
   "pygments_lexer": "ipython2",
   "version": "2.7.6"
  }
 },
 "nbformat": 4,
 "nbformat_minor": 0
}