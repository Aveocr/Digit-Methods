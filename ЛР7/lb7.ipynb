{
 "cells": [
  {
   "cell_type": "code",
   "execution_count": 2,
   "metadata": {
    "collapsed": true,
    "pycharm": {
     "name": "#%%\n"
    }
   },
   "outputs": [],
   "source": [
    "1# 14 КОМБИНИРОВАННЫЙ МЕТОД ХОРД И КАСАТЕЛЬНЫХ\n",
    "import pandas as pd\n",
    "\n",
    "epsilon = 0.001\n",
    "def F(x):\n",
    "    return round(x**3 + 2*x + 4, 4) # $∃ x_1 \\in [0;1] $\n",
    "\n",
    "def F_derive(x):\n",
    "    return round(3 * x**2 + 2, 4)"
   ]
  },
  {
   "cell_type": "code",
   "execution_count": 3,
   "outputs": [
    {
     "name": "stdout",
     "output_type": "stream",
     "text": [
      "F(-1)F(-2) = 1*-8 = -8<0\n"
     ]
    }
   ],
   "source": [
    "print(f\"F(-1)F(-2) = {F(-1)}*{F(-2)} = {F(-1)*F(-2)}<0\")"
   ],
   "metadata": {
    "collapsed": false,
    "pycharm": {
     "name": "#%%\n"
    }
   }
  },
  {
   "cell_type": "markdown",
   "source": [
    "Так как выполняется равенство $F(-1)F^{''}(-1) > 0$ положим $x_0 = a$, $x_0^{*} = b$, то есть $x_0 = -1$, $x_0^{*} = -2 $"
   ],
   "metadata": {
    "collapsed": false,
    "pycharm": {
     "name": "#%% md\n"
    }
   }
  },
  {
   "cell_type": "code",
   "execution_count": 1,
   "outputs": [],
   "source": [
    "def x_0_new(x_0, x_1):\n",
    "    return round((x_0 * F(x_1) - x_1 * (F(x_0))) / (F(x_1) - F(x_0)), 4)\n",
    "\n",
    "def x_1_new(x_1):\n",
    "    return round(x_1 - F(x_1) / F_derive(x_1), 4)"
   ],
   "metadata": {
    "collapsed": false,
    "pycharm": {
     "name": "#%%\n"
    }
   }
  },
  {
   "cell_type": "code",
   "execution_count": 42,
   "outputs": [
    {
     "data": {
      "text/plain": "-1.1111"
     },
     "execution_count": 42,
     "metadata": {},
     "output_type": "execute_result"
    }
   ],
   "source": [
    "x_0_new(-2, -1)"
   ],
   "metadata": {
    "collapsed": false,
    "pycharm": {
     "name": "#%%\n"
    }
   }
  },
  {
   "cell_type": "code",
   "execution_count": 51,
   "outputs": [
    {
     "data": {
      "text/plain": "-1.2"
     },
     "execution_count": 51,
     "metadata": {},
     "output_type": "execute_result"
    }
   ],
   "source": [
    "x_1_new(-1)"
   ],
   "metadata": {
    "collapsed": false,
    "pycharm": {
     "name": "#%%\n"
    }
   }
  },
  {
   "cell_type": "code",
   "execution_count": 50,
   "outputs": [
    {
     "data": {
      "text/plain": "9"
     },
     "execution_count": 50,
     "metadata": {},
     "output_type": "execute_result"
    }
   ],
   "source": [
    "(F(-1) - F(-2))"
   ],
   "metadata": {
    "collapsed": false,
    "pycharm": {
     "name": "#%%\n"
    }
   }
  },
  {
   "cell_type": "code",
   "execution_count": 4,
   "outputs": [],
   "source": [
    "import pandas as pd\n",
    "import numpy as np"
   ],
   "metadata": {
    "collapsed": false,
    "pycharm": {
     "name": "#%%\n"
    }
   }
  },
  {
   "cell_type": "code",
   "execution_count": 62,
   "outputs": [
    {
     "name": "stdout",
     "output_type": "stream",
     "text": [
      "n\t|x_{n-1}|x*_{n-1}|F(x_{n-1})|F(x*_{n-1})|F'(x_{n-1})|x_n||x*_n|, |abs(x_n-x*)|\n"
     ]
    }
   ],
   "source": [
    "i = 0\n",
    "x_0 = [-2]\n",
    "x_1 = [-1]\n",
    "delta = []\n",
    "print(\"n\\t|x_{n-1}|x*_{n-1}|F(x_{n-1})|F(x*_{n-1})|F'(x_{n-1})|x_n||x*_n|, |abs(x_n-x*)|\")\n",
    "while True:\n",
    "    if abs(x_0[-1] - x_1[i-1]) < epsilon:\n",
    "        x_0.append(round(x_0_new(x_0[-1], x_1[-1]), 4))\n",
    "        x_1.append(round(x_1_new(x_1[-1]), 4))\n",
    "        delta.append(round(abs(x_0[-1]-x_1[-1]), 4))\n",
    "        a = pd.DataFrame({\"x_{n-1}\": x_0[:-1],\n",
    "                  \"x*{n_1}\": x_1[:-1],\n",
    "                  \"F(x_{n-1}\": [F(i) for i in x_0[:-1]],\n",
    "                  \"F(x*_{n-1}\": [F(i) for i in x_0[:-1]],\n",
    "                  \"F'(x*_{n-1}\": [F_derive(i) for i in x_1[:-1]],\n",
    "                  \"x_n\": x_0[1:],\n",
    "                  \"x*_n\": x_1[1:],\n",
    "                  \"|x_n - x*_n|\": delta\n",
    "                  })\n",
    "        break\n",
    "    else:\n",
    "        x_0.append(round(x_0_new(x_0[-1], x_1[-1]), 5))\n",
    "        x_1.append(round(x_1_new(x_1[-1]), 5))\n",
    "        delta.append(round(abs(x_0[-1]-x_1[-1]), 4))"
   ],
   "metadata": {
    "collapsed": false,
    "pycharm": {
     "name": "#%%\n"
    }
   }
  },
  {
   "cell_type": "code",
   "execution_count": 64,
   "outputs": [
    {
     "name": "stdout",
     "output_type": "stream",
     "text": [
      "\\begin{tabular}{lrrrrrrrr}\n",
      "\\toprule\n",
      "{} &  x\\_\\{n-1\\} &  x*\\{n\\_1\\} &  F(x\\_\\{n-1\\} &  F(x*\\_\\{n-1\\} &  F'(x*\\_\\{n-1\\} &     x\\_n &    x*\\_n &  |x\\_n - x*\\_n| \\\\\n",
      "\\midrule\n",
      "0 &  -2.0000 &  -1.0000 &    -8.0000 &     -8.0000 &       5.0000 & -1.1111 & -1.2000 &        0.0889 \\\\\n",
      "1 &  -1.1111 &  -1.2000 &     0.4061 &      0.4061 &       6.3200 & -1.1787 & -1.1797 &        0.0010 \\\\\n",
      "2 &  -1.1787 &  -1.1797 &     0.0050 &      0.0050 &       6.1751 & -1.1795 & -1.1795 &        0.0000 \\\\\n",
      "\\bottomrule\n",
      "\\end{tabular}\n",
      "\n"
     ]
    },
    {
     "name": "stderr",
     "output_type": "stream",
     "text": [
      "<ipython-input-64-d10ea41283f4>:1: FutureWarning: In future versions `DataFrame.to_latex` is expected to utilise the base implementation of `Styler.to_latex` for formatting and rendering. The arguments signature may therefore change. It is recommended instead to use `DataFrame.style.to_latex` which also contains additional functionality.\n",
      "  print(a.to_latex())\n"
     ]
    }
   ],
   "source": [
    "print(a.to_latex())"
   ],
   "metadata": {
    "collapsed": false,
    "pycharm": {
     "name": "#%%\n"
    }
   }
  },
  {
   "cell_type": "code",
   "execution_count": 63,
   "outputs": [
    {
     "data": {
      "text/plain": "   x_{n-1}  x*{n_1}  F(x_{n-1}  F(x*_{n-1}  F'(x*_{n-1}     x_n    x*_n  \\\n0  -2.0000  -1.0000    -8.0000     -8.0000       5.0000 -1.1111 -1.2000   \n1  -1.1111  -1.2000     0.4061      0.4061       6.3200 -1.1787 -1.1797   \n2  -1.1787  -1.1797     0.0050      0.0050       6.1751 -1.1795 -1.1795   \n\n   |x_n - x*_n|  \n0        0.0889  \n1        0.0010  \n2        0.0000  ",
      "text/html": "<div>\n<style scoped>\n    .dataframe tbody tr th:only-of-type {\n        vertical-align: middle;\n    }\n\n    .dataframe tbody tr th {\n        vertical-align: top;\n    }\n\n    .dataframe thead th {\n        text-align: right;\n    }\n</style>\n<table border=\"1\" class=\"dataframe\">\n  <thead>\n    <tr style=\"text-align: right;\">\n      <th></th>\n      <th>x_{n-1}</th>\n      <th>x*{n_1}</th>\n      <th>F(x_{n-1}</th>\n      <th>F(x*_{n-1}</th>\n      <th>F'(x*_{n-1}</th>\n      <th>x_n</th>\n      <th>x*_n</th>\n      <th>|x_n - x*_n|</th>\n    </tr>\n  </thead>\n  <tbody>\n    <tr>\n      <th>0</th>\n      <td>-2.0000</td>\n      <td>-1.0000</td>\n      <td>-8.0000</td>\n      <td>-8.0000</td>\n      <td>5.0000</td>\n      <td>-1.1111</td>\n      <td>-1.2000</td>\n      <td>0.0889</td>\n    </tr>\n    <tr>\n      <th>1</th>\n      <td>-1.1111</td>\n      <td>-1.2000</td>\n      <td>0.4061</td>\n      <td>0.4061</td>\n      <td>6.3200</td>\n      <td>-1.1787</td>\n      <td>-1.1797</td>\n      <td>0.0010</td>\n    </tr>\n    <tr>\n      <th>2</th>\n      <td>-1.1787</td>\n      <td>-1.1797</td>\n      <td>0.0050</td>\n      <td>0.0050</td>\n      <td>6.1751</td>\n      <td>-1.1795</td>\n      <td>-1.1795</td>\n      <td>0.0000</td>\n    </tr>\n  </tbody>\n</table>\n</div>"
     },
     "execution_count": 63,
     "metadata": {},
     "output_type": "execute_result"
    }
   ],
   "source": [
    "a"
   ],
   "metadata": {
    "collapsed": false,
    "pycharm": {
     "name": "#%%\n"
    }
   }
  },
  {
   "cell_type": "code",
   "execution_count": 37,
   "outputs": [
    {
     "data": {
      "text/plain": "<function __main__.F(x)>"
     },
     "execution_count": 37,
     "metadata": {},
     "output_type": "execute_result"
    }
   ],
   "source": [
    "F"
   ],
   "metadata": {
    "collapsed": false,
    "pycharm": {
     "name": "#%%\n"
    }
   }
  }
 ],
 "metadata": {
  "kernelspec": {
   "display_name": "Python 3",
   "language": "python",
   "name": "python3"
  },
  "language_info": {
   "codemirror_mode": {
    "name": "ipython",
    "version": 2
   },
   "file_extension": ".py",
   "mimetype": "text/x-python",
   "name": "python",
   "nbconvert_exporter": "python",
   "pygments_lexer": "ipython2",
   "version": "2.7.6"
  }
 },
 "nbformat": 4,
 "nbformat_minor": 0
}