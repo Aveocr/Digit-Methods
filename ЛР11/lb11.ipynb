{
 "cells": [
  {
   "cell_type": "code",
   "execution_count": 32,
   "outputs": [],
   "source": [
    "import numpy as np\n",
    "\n",
    "X = np.array([[2.47, 0.65, -1.88], [1.34, 1.17, 2.54], [0.86, -1.73, -1.08]])\n",
    "Y = np.array([1.24, 2.35, 3.15])"
   ],
   "metadata": {
    "collapsed": false,
    "pycharm": {
     "name": "#%%\n"
    }
   }
  },
  {
   "cell_type": "code",
   "execution_count": 50,
   "metadata": {
    "collapsed": true,
    "pycharm": {
     "name": "#%%\n"
    }
   },
   "outputs": [],
   "source": [
    "def bmatrix(a):\n",
    "    \"\"\"Returns a LaTeX bmatrix\n",
    "\n",
    "    :a: numpy array\n",
    "    :returns: LaTeX bmatrix as a string\n",
    "    \"\"\"\n",
    "    if len(a.shape) > 2:\n",
    "        raise ValueError('bmatrix can at most display two dimensions')\n",
    "    lines = str(a).replace('[', '').replace(']', '').splitlines()\n",
    "    rv = [r'\\begin{pmatrix}']\n",
    "    rv += ['  ' + ' & '.join(l.split()) + r'\\\\' for l in lines]\n",
    "    rv +=  [r'\\end{pmatrix}']\n",
    "    return '\\n'.join(rv)"
   ]
  },
  {
   "cell_type": "code",
   "execution_count": 33,
   "outputs": [
    {
     "name": "stdout",
     "output_type": "stream",
     "text": [
      "A =  \\begin{pmatrix}[ccc]\n",
      "  2.47 & 0.65 & -1.88\\\\\n",
      "  1.34 & 1.17 & 2.54\\\\\n",
      "  0.86 & -1.73 & -1.08\\\\\n",
      "\\end{pmatrix}\n",
      "\\qauad B =  \\begin{pmatrix}[ccc]\n",
      "  1.24 & 2.35 & 3.15\\\\\n",
      "\\end{pmatrix}\n"
     ]
    }
   ],
   "source": [
    "print(\"A = \", bmatrix(X))\n",
    "print(\"\\qauad B = \", bmatrix(Y))"
   ],
   "metadata": {
    "collapsed": false,
    "pycharm": {
     "name": "#%%\n"
    }
   }
  },
  {
   "cell_type": "code",
   "execution_count": 34,
   "outputs": [
    {
     "name": "stdout",
     "output_type": "stream",
     "text": [
      "\\begin{pmatrix}[ccc]\n",
      "  2.47 & 1.34 & 0.86\\\\\n",
      "  0.65 & 1.17 & -1.73\\\\\n",
      "  -1.88 & 2.54 & -1.08\\\\\n",
      "\\end{pmatrix} \\begin{pmatrix}[ccc]\n",
      "  2.47 & 0.65 & -1.88\\\\\n",
      "  1.34 & 1.17 & 2.54\\\\\n",
      "  0.86 & -1.73 & -1.08\\\\\n",
      "\\end{pmatrix}  =  \\begin{pmatrix}[ccc]\n",
      "  8.6361 & 1.6855 & -2.1688\\\\\n",
      "  1.6855 & 4.7843 & 3.6182\\\\\n",
      "  -2.1688 & 3.6182 & 11.1524\\\\\n",
      "\\end{pmatrix}\n",
      "\\begin{pmatrix}[ccc]\n",
      "  2.47 & 1.34 & 0.86\\\\\n",
      "  0.65 & 1.17 & -1.73\\\\\n",
      "  -1.88 & 2.54 & -1.08\\\\\n",
      "\\end{pmatrix} \\begin{pmatrix}[ccc]\n",
      "  1.24 & 2.35 & 3.15\\\\\n",
      "\\end{pmatrix}  =  \\begin{pmatrix}[ccc]\n",
      "  8.9208 & -1.894 & 0.2358\\\\\n",
      "\\end{pmatrix}\n"
     ]
    }
   ],
   "source": [
    "AtA = np.round(X.T @ X, 4)\n",
    "Atb = np.round(X.T @ Y.T, 4)\n",
    "\n",
    "print(bmatrix(X.T), bmatrix(X), \" = \", bmatrix(AtA))\n",
    "print(bmatrix(X.T), bmatrix(Y), \" = \", bmatrix(Atb))"
   ],
   "metadata": {
    "collapsed": false,
    "pycharm": {
     "name": "#%%\n"
    }
   }
  },
  {
   "cell_type": "code",
   "execution_count": 35,
   "outputs": [
    {
     "data": {
      "text/plain": "array([ 8.9208, -1.894 ,  0.2358])"
     },
     "execution_count": 35,
     "metadata": {},
     "output_type": "execute_result"
    }
   ],
   "source": [
    "Atb"
   ],
   "metadata": {
    "collapsed": false,
    "pycharm": {
     "name": "#%%\n"
    }
   }
  },
  {
   "cell_type": "code",
   "execution_count": 38,
   "outputs": [],
   "source": [
    "l = np.eye(3)"
   ],
   "metadata": {
    "collapsed": false,
    "pycharm": {
     "name": "#%%\n"
    }
   }
  },
  {
   "cell_type": "code",
   "execution_count": 36,
   "outputs": [
    {
     "data": {
      "text/plain": "array([[ 8.6361,  1.6855, -2.1688],\n       [ 1.6855,  4.7843,  3.6182],\n       [-2.1688,  3.6182, 11.1524]])"
     },
     "execution_count": 36,
     "metadata": {},
     "output_type": "execute_result"
    }
   ],
   "source": [
    "AtA"
   ],
   "metadata": {
    "collapsed": false,
    "pycharm": {
     "name": "#%%\n"
    }
   }
  },
  {
   "cell_type": "code",
   "execution_count": 40,
   "outputs": [
    {
     "data": {
      "text/plain": "array([[ 2.9387,  0.    ,  0.    ],\n       [ 0.5736,  1.    ,  0.    ],\n       [-0.738 ,  0.    ,  1.    ]])"
     },
     "execution_count": 40,
     "metadata": {},
     "output_type": "execute_result"
    }
   ],
   "source": [
    "l[0][0] = round(AtA[0][0]**0.5, 4)\n",
    "l[1][0] = round(AtA[1][0] / l[0][0], 4)\n",
    "l[2][0] = round(AtA[2][0] / l[0][0], 4)\n",
    "\n",
    "l"
   ],
   "metadata": {
    "collapsed": false,
    "pycharm": {
     "name": "#%%\n"
    }
   }
  },
  {
   "cell_type": "code",
   "execution_count": 41,
   "outputs": [
    {
     "data": {
      "text/plain": "array([[ 2.9387,  0.    ,  0.    ],\n       [ 0.5736,  2.1108,  0.    ],\n       [-0.738 ,  1.9147,  1.    ]])"
     },
     "execution_count": 41,
     "metadata": {},
     "output_type": "execute_result"
    }
   ],
   "source": [
    "l[1][1] = round((AtA[1][1] - l[1][0]**2)**0.5, 4)\n",
    "l[2][1] = round((AtA[2][1] - l[1][0] * l[2][0])/l[1][1], 4)\n",
    "\n",
    "l"
   ],
   "metadata": {
    "collapsed": false,
    "pycharm": {
     "name": "#%%\n"
    }
   }
  },
  {
   "cell_type": "code",
   "execution_count": 48,
   "outputs": [
    {
     "data": {
      "text/plain": "array([[ 2.9387,  0.    ,  0.    ],\n       [ 0.5736,  2.1108,  0.    ],\n       [-0.738 ,  1.9147,  2.6347]])"
     },
     "execution_count": 48,
     "metadata": {},
     "output_type": "execute_result"
    }
   ],
   "source": [
    "l[2][2] = round((AtA[2][2] - l[2][0]**2 - l[2][1]**2)**0.5 ,4)\n",
    "l"
   ],
   "metadata": {
    "collapsed": false,
    "pycharm": {
     "name": "#%%\n"
    }
   }
  },
  {
   "cell_type": "code",
   "execution_count": 49,
   "outputs": [
    {
     "name": "stdout",
     "output_type": "stream",
     "text": [
      "\\begin{pmatrix}[ccc]\n",
      "  2.9387 & 0. & 0.\\\\\n",
      "  0.5736 & 2.1108 & 0.\\\\\n",
      "  -0.738 & 1.9147 & 2.6347\\\\\n",
      "\\end{pmatrix}\n"
     ]
    }
   ],
   "source": [
    "print(bmatrix(l))"
   ],
   "metadata": {
    "collapsed": false,
    "pycharm": {
     "name": "#%%\n"
    }
   }
  },
  {
   "cell_type": "code",
   "execution_count": 54,
   "outputs": [
    {
     "data": {
      "text/plain": "(array([ 8.9208, -1.894 ,  0.2358]),\n array([[ 2.9387,  0.    ,  0.    ],\n        [ 0.5736,  2.1108,  0.    ],\n        [-0.738 ,  1.9147,  2.6347]]))"
     },
     "execution_count": 54,
     "metadata": {},
     "output_type": "execute_result"
    }
   ],
   "source": [
    "Atb, l"
   ],
   "metadata": {
    "collapsed": false,
    "pycharm": {
     "name": "#%%\n"
    }
   }
  },
  {
   "cell_type": "code",
   "execution_count": 53,
   "outputs": [],
   "source": [
    "g = [0, 0, 0]\n",
    "g[0] = round(Atb[0] / l[0][0], 4)\n",
    "g[1] = round((Atb[1] - l[1][0] * g[0])/l[1][1], 4)\n",
    "g[2] = round((Atb[2] - l[2][0] * g[0] - l[2][1] * g[1]) / l[2][2], 4)"
   ],
   "metadata": {
    "collapsed": false,
    "pycharm": {
     "name": "#%%\n"
    }
   }
  },
  {
   "cell_type": "code",
   "execution_count": 45,
   "outputs": [
    {
     "name": "stdout",
     "output_type": "stream",
     "text": [
      "[ 3.0356 -1.7222  2.1914]\n"
     ]
    }
   ],
   "source": [
    "g = np.array(g)\n",
    "print(g)"
   ],
   "metadata": {
    "collapsed": false,
    "pycharm": {
     "name": "#%%\n"
    }
   }
  },
  {
   "cell_type": "code",
   "execution_count": 46,
   "outputs": [
    {
     "name": "stdout",
     "output_type": "stream",
     "text": [
      "[ 1.5483 -1.5703  0.8317]\n"
     ]
    }
   ],
   "source": [
    "x = [0, 0, 0]\n",
    "\n",
    "x[2] = round(g[2] / l.T[2][2], 4)\n",
    "x[1] = round((g[1] - l.T[1][2] * x[2]) / l.T[1][1], 4)\n",
    "x[0] = round((g[0] - l.T[0][2] * x[2] - l.T[0][1] * x[1]) / l.T[0][0], 4)\n",
    "\n",
    "print(np.array(x))"
   ],
   "metadata": {
    "collapsed": false,
    "pycharm": {
     "name": "#%%\n"
    }
   }
  },
  {
   "cell_type": "code",
   "execution_count": 56,
   "outputs": [
    {
     "name": "stdout",
     "output_type": "stream",
     "text": [
      "\\frac{2.1914}{2.6347}=0.8317, \\newline\n",
      "\\frac{ -1.7222-1.9147x_2 }{2.1108}=-1.5703, \\newline\n",
      "\\frac{ 3.0356 - -0.738x_2 - 0.5736 x_1 }{2.9387}=1.5483\n"
     ]
    }
   ],
   "source": [
    "print(f'\\\\frac{{{g[2]}}}{{{l.T[2][2]}}}={x[2]}, \\\\newline')\n",
    "print(f'\\\\frac{{ {g[1]}-{l.T[1][2]}x_2 }}{{{l.T[1][1]}}}={x[1]}, \\\\newline')\n",
    "print(f'\\\\frac{{ {g[0]} - {l.T[0][2]}x_2 - {l.T[0][1]} x_1 }}{{{l.T[0][0]}}}={x[0]}')"
   ],
   "metadata": {
    "collapsed": false,
    "pycharm": {
     "name": "#%%\n"
    }
   }
  },
  {
   "cell_type": "code",
   "execution_count": 52,
   "outputs": [
    {
     "data": {
      "text/plain": "array([1.24, 2.35, 3.15])"
     },
     "execution_count": 52,
     "metadata": {},
     "output_type": "execute_result"
    }
   ],
   "source": [
    "np.round(X @ np.array(x).T, 2)"
   ],
   "metadata": {
    "collapsed": false,
    "pycharm": {
     "name": "#%%\n"
    }
   }
  },
  {
   "cell_type": "code",
   "execution_count": 14,
   "outputs": [
    {
     "data": {
      "text/plain": "array([1.24, 2.35, 3.15])"
     },
     "execution_count": 14,
     "metadata": {},
     "output_type": "execute_result"
    }
   ],
   "source": [
    "Y"
   ],
   "metadata": {
    "collapsed": false,
    "pycharm": {
     "name": "#%%\n"
    }
   }
  },
  {
   "cell_type": "code",
   "execution_count": 64,
   "outputs": [
    {
     "name": "stdout",
     "output_type": "stream",
     "text": [
      "\\begin{pmatrix}\n",
      "  1.24 & 2.35 & 3.1499\\\\\n",
      "\\end{pmatrix}\n"
     ]
    }
   ],
   "source": [
    "print(bmatrix(np.round(X @ np.array(x).T, 4)))"
   ],
   "metadata": {
    "collapsed": false,
    "pycharm": {
     "name": "#%%\n"
    }
   }
  },
  {
   "cell_type": "code",
   "execution_count": 93,
   "outputs": [
    {
     "data": {
      "text/plain": "array([ 1.54831936, -1.57034543,  0.83171505])"
     },
     "execution_count": 93,
     "metadata": {},
     "output_type": "execute_result"
    }
   ],
   "source": [
    "np.linalg.solve(X, Y)"
   ],
   "metadata": {
    "collapsed": false,
    "pycharm": {
     "name": "#%%\n"
    }
   }
  }
 ],
 "metadata": {
  "kernelspec": {
   "display_name": "Python 3",
   "language": "python",
   "name": "python3"
  },
  "language_info": {
   "codemirror_mode": {
    "name": "ipython",
    "version": 2
   },
   "file_extension": ".py",
   "mimetype": "text/x-python",
   "name": "python",
   "nbconvert_exporter": "python",
   "pygments_lexer": "ipython2",
   "version": "2.7.6"
  }
 },
 "nbformat": 4,
 "nbformat_minor": 0
}