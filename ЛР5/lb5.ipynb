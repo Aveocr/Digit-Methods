{
 "cells": [
  {
   "cell_type": "code",
   "execution_count": 8,
   "metadata": {
    "collapsed": true,
    "pycharm": {
     "name": "#%%\n"
    }
   },
   "outputs": [],
   "source": [
    "import math\n",
    "\n",
    "import pandas as pd\n",
    "import numpy as np\n",
    "\n",
    "def f(x):\n",
    "    return round(5*x-8*math.log(x) - 8, 4)\n",
    "    # return round(x - math.exp(-x), 4)"
   ]
  },
  {
   "cell_type": "code",
   "execution_count": 18,
   "outputs": [
    {
     "data": {
      "text/plain": "-3.0"
     },
     "execution_count": 18,
     "metadata": {},
     "output_type": "execute_result"
    }
   ],
   "source": [
    "f(1)"
   ],
   "metadata": {
    "collapsed": false,
    "pycharm": {
     "name": "#%%\n"
    }
   }
  },
  {
   "cell_type": "code",
   "execution_count": 2,
   "outputs": [
    {
     "name": "stdout",
     "output_type": "stream",
     "text": [
      "-86.6742 < 0\n",
      "-7.37831805 < 0\n"
     ]
    }
   ],
   "source": [
    "print(f(0.01)*f(1), \"< 0\")\n",
    "print(f(3)*f(5), \"< 0\")"
   ],
   "metadata": {
    "collapsed": false,
    "pycharm": {
     "name": "#%%\n"
    }
   }
  },
  {
   "cell_type": "code",
   "execution_count": 26,
   "outputs": [],
   "source": [
    "epsilon = 0.001\n",
    "def solve(f, a, b):\n",
    "    # if f(a) > 0:\n",
    "    #     x_n = [b]\n",
    "    # else:\n",
    "    #     x_n = [a]\n",
    "    #     a,b = b,a\n",
    "    x_n = [b]\n",
    "    n = 0\n",
    "    abs_x_n = [0]\n",
    "    while True:\n",
    "        # Метод хорд\n",
    "        x_n += [round((a * f(x_n[-1]) - x_n[-1] * f(a)) / (f(x_n[-1])-f(a)), 4)]\n",
    "        abs_x_n += [round(abs(x_n[-1] - x_n[-2]), 4)]\n",
    "        if abs_x_n[-1] < epsilon:\n",
    "            return pd.DataFrame({\"x_n\": np.array(x_n), \"F(x_n)\": np.array(map(f, x_n)), \"$|x_n-x_{n-1}$\": np.array(abs_x_n)})\n"
   ],
   "metadata": {
    "collapsed": false,
    "pycharm": {
     "name": "#%%\n"
    }
   }
  },
  {
   "cell_type": "code",
   "execution_count": 36,
   "outputs": [
    {
     "name": "stdout",
     "output_type": "stream",
     "text": [
      "\\begin{tabular}{lrlr}\n",
      "\\toprule\n",
      "{} &     x\\_n &  F(x\\_n) &  \\$|x\\_n-x\\_\\{n-1\\}\\$ \\\\\n",
      "\\midrule\n",
      "0  &  1.0000 &    -3.0 &          0.0000 \\\\\n",
      "1  &  0.9069 & -2.6837 &          0.0931 \\\\\n",
      "2  &  0.8307 & -2.3626 &          0.0762 \\\\\n",
      "3  &  0.7687 & -2.0521 &          0.0620 \\\\\n",
      "4  &  0.7184 & -1.7622 &          0.0503 \\\\\n",
      "5  &  0.6777 & -1.4991 &          0.0407 \\\\\n",
      "6  &  0.6448 & -1.2655 &          0.0329 \\\\\n",
      "7  &  0.6182 & -1.0615 &          0.0266 \\\\\n",
      "8  &  0.5966 & -0.8849 &          0.0216 \\\\\n",
      "9  &  0.5792 & -0.7351 &          0.0174 \\\\\n",
      "10 &  0.5651 & -0.6085 &          0.0141 \\\\\n",
      "11 &  0.5536 & -0.5015 &          0.0115 \\\\\n",
      "12 &  0.5443 & -0.4125 &          0.0093 \\\\\n",
      "13 &  0.5368 &  -0.339 &          0.0075 \\\\\n",
      "14 &  0.5307 &  -0.278 &          0.0061 \\\\\n",
      "15 &  0.5257 & -0.2273 &          0.0050 \\\\\n",
      "16 &  0.5217 & -0.1862 &          0.0040 \\\\\n",
      "17 &  0.5184 & -0.1519 &          0.0033 \\\\\n",
      "18 &  0.5157 & -0.1237 &          0.0027 \\\\\n",
      "19 &  0.5135 & -0.1005 &          0.0022 \\\\\n",
      "20 &  0.5118 & -0.0824 &          0.0017 \\\\\n",
      "21 &  0.5104 & -0.0675 &          0.0014 \\\\\n",
      "22 &  0.5092 & -0.0547 &          0.0012 \\\\\n",
      "23 &  0.5083 &  -0.045 &          0.0009 \\\\\n",
      "\\bottomrule\n",
      "\\end{tabular}\n",
      "\n"
     ]
    },
    {
     "name": "stderr",
     "output_type": "stream",
     "text": [
      "<ipython-input-36-1bd2db30bc0e>:1: FutureWarning: In future versions `DataFrame.to_latex` is expected to utilise the base implementation of `Styler.to_latex` for formatting and rendering. The arguments signature may therefore change. It is recommended instead to use `DataFrame.style.to_latex` which also contains additional functionality.\n",
      "  print(solve(f, 0.01, 1).to_latex())\n"
     ]
    }
   ],
   "source": [
    "print(solve(f, 0.01, 1).to_latex())"
   ],
   "metadata": {
    "collapsed": false,
    "pycharm": {
     "name": "#%%\n"
    }
   }
  },
  {
   "cell_type": "code",
   "execution_count": 34,
   "outputs": [
    {
     "data": {
      "text/plain": "      x_n  F(x_n)  $|x_n-x_{n-1}$\n0  4.0000  0.9096          0.0000\n1  3.6629 -0.0715          0.3371\n2  3.6905  0.0064          0.0276\n3  3.6880 -0.0007          0.0025\n4  3.6883  0.0002          0.0003",
      "text/html": "<div>\n<style scoped>\n    .dataframe tbody tr th:only-of-type {\n        vertical-align: middle;\n    }\n\n    .dataframe tbody tr th {\n        vertical-align: top;\n    }\n\n    .dataframe thead th {\n        text-align: right;\n    }\n</style>\n<table border=\"1\" class=\"dataframe\">\n  <thead>\n    <tr style=\"text-align: right;\">\n      <th></th>\n      <th>x_n</th>\n      <th>F(x_n)</th>\n      <th>$|x_n-x_{n-1}$</th>\n    </tr>\n  </thead>\n  <tbody>\n    <tr>\n      <th>0</th>\n      <td>4.0000</td>\n      <td>0.9096</td>\n      <td>0.0000</td>\n    </tr>\n    <tr>\n      <th>1</th>\n      <td>3.6629</td>\n      <td>-0.0715</td>\n      <td>0.3371</td>\n    </tr>\n    <tr>\n      <th>2</th>\n      <td>3.6905</td>\n      <td>0.0064</td>\n      <td>0.0276</td>\n    </tr>\n    <tr>\n      <th>3</th>\n      <td>3.6880</td>\n      <td>-0.0007</td>\n      <td>0.0025</td>\n    </tr>\n    <tr>\n      <th>4</th>\n      <td>3.6883</td>\n      <td>0.0002</td>\n      <td>0.0003</td>\n    </tr>\n  </tbody>\n</table>\n</div>"
     },
     "execution_count": 34,
     "metadata": {},
     "output_type": "execute_result"
    }
   ],
   "source": [
    "solve(f, 3, 4)"
   ],
   "metadata": {
    "collapsed": false,
    "pycharm": {
     "name": "#%%\n"
    }
   }
  },
  {
   "cell_type": "code",
   "execution_count": 25,
   "outputs": [
    {
     "data": {
      "text/plain": "0.9068714449663546"
     },
     "execution_count": 25,
     "metadata": {},
     "output_type": "execute_result"
    }
   ],
   "source": [
    "a = 0.01\n",
    "x_n = [1]\n",
    "(a * f(x_n[-1]) - x_n[-1] * f(a)) / (f(x_n[-1])-f(a))"
   ],
   "metadata": {
    "collapsed": false,
    "pycharm": {
     "name": "#%%\n"
    }
   }
  }
 ],
 "metadata": {
  "kernelspec": {
   "display_name": "Python 3",
   "language": "python",
   "name": "python3"
  },
  "language_info": {
   "codemirror_mode": {
    "name": "ipython",
    "version": 2
   },
   "file_extension": ".py",
   "mimetype": "text/x-python",
   "name": "python",
   "nbconvert_exporter": "python",
   "pygments_lexer": "ipython2",
   "version": "2.7.6"
  }
 },
 "nbformat": 4,
 "nbformat_minor": 0
}