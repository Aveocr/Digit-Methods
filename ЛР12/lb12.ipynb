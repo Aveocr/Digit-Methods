{
 "cells": [
  {
   "cell_type": "code",
   "execution_count": 1,
   "metadata": {
    "collapsed": true,
    "pycharm": {
     "name": "#%%\n"
    }
   },
   "outputs": [],
   "source": [
    "import numpy as np\n",
    "import pandas as pd"
   ]
  },
  {
   "cell_type": "code",
   "execution_count": 193,
   "outputs": [],
   "source": [
    "A = np.array([[5.4, -6.2, -0.5], [3.4, 2.3, 0.8], [2.4, -1.1, 3.8]])\n",
    "b = np.array([0.52, -0.8, 1.8]).T"
   ],
   "metadata": {
    "collapsed": false,
    "pycharm": {
     "name": "#%%\n"
    }
   }
  },
  {
   "cell_type": "code",
   "execution_count": 194,
   "outputs": [],
   "source": [
    "A[0] = A[0] + A[1]\n",
    "b[0] = b[0] + b[1]"
   ],
   "metadata": {
    "collapsed": false,
    "pycharm": {
     "name": "#%%\n"
    }
   }
  },
  {
   "cell_type": "code",
   "execution_count": 195,
   "outputs": [],
   "source": [
    "A[1] = A[1] - A[0]\n",
    "b[1] -= b[0]"
   ],
   "metadata": {
    "collapsed": false,
    "pycharm": {
     "name": "#%%\n"
    }
   }
  },
  {
   "cell_type": "code",
   "execution_count": 197,
   "outputs": [
    {
     "data": {
      "text/plain": "array([-0.28, -0.52,  1.8 ])"
     },
     "execution_count": 197,
     "metadata": {},
     "output_type": "execute_result"
    }
   ],
   "source": [
    "b"
   ],
   "metadata": {
    "collapsed": false,
    "pycharm": {
     "name": "#%%\n"
    }
   }
  },
  {
   "cell_type": "code",
   "execution_count": 198,
   "outputs": [],
   "source": [
    "b[0] = b[0] / A[0][0]\n",
    "b[1] = b[1] / A[1][1]\n",
    "b[2] = b[2] / A[2][2]\n",
    "A[0] = A[0] / A[0][0]\n",
    "A[1] = A[1] / A[1][1]\n",
    "A[2] = A[2] / A[2][2]"
   ],
   "metadata": {
    "collapsed": false,
    "pycharm": {
     "name": "#%%\n"
    }
   }
  },
  {
   "cell_type": "code",
   "execution_count": 199,
   "outputs": [
    {
     "data": {
      "text/plain": "array([[-1.    ,  0.4432, -0.0341],\n       [ 0.871 , -1.    , -0.0806],\n       [-0.6316,  0.2895, -1.    ]])"
     },
     "execution_count": 199,
     "metadata": {},
     "output_type": "execute_result"
    }
   ],
   "source": [
    "-1 * np.round(A, 4 )"
   ],
   "metadata": {
    "collapsed": false,
    "pycharm": {
     "name": "#%%\n"
    }
   }
  },
  {
   "cell_type": "code",
   "execution_count": 204,
   "outputs": [
    {
     "data": {
      "text/plain": "array([-0.0318, -0.0839,  0.4737])"
     },
     "execution_count": 204,
     "metadata": {},
     "output_type": "execute_result"
    }
   ],
   "source": [
    "np.round(b, 4)"
   ],
   "metadata": {
    "collapsed": false,
    "pycharm": {
     "name": "#%%\n"
    }
   }
  },
  {
   "cell_type": "code",
   "execution_count": 182,
   "outputs": [],
   "source": [
    "B = -1 * np.round(A, 4 )"
   ],
   "metadata": {
    "collapsed": false,
    "pycharm": {
     "name": "#%%\n"
    }
   }
  },
  {
   "cell_type": "code",
   "execution_count": 203,
   "outputs": [
    {
     "name": "stdout",
     "output_type": "stream",
     "text": [
      "[0.2394 0.7327 0.1147]\n"
     ]
    }
   ],
   "source": [
    "print(abs(sum(B)+1))"
   ],
   "metadata": {
    "collapsed": false,
    "pycharm": {
     "name": "#%%\n"
    }
   }
  },
  {
   "cell_type": "code",
   "execution_count": 201,
   "outputs": [
    {
     "data": {
      "text/plain": "0.7327"
     },
     "execution_count": 201,
     "metadata": {},
     "output_type": "execute_result"
    }
   ],
   "source": [
    "c"
   ],
   "metadata": {
    "collapsed": false,
    "pycharm": {
     "name": "#%%\n"
    }
   }
  },
  {
   "cell_type": "code",
   "execution_count": 206,
   "outputs": [
    {
     "data": {
      "text/plain": "0.2673"
     },
     "execution_count": 206,
     "metadata": {},
     "output_type": "execute_result"
    }
   ],
   "source": [
    "round(1 - c, 4)"
   ],
   "metadata": {
    "collapsed": false,
    "pycharm": {
     "name": "#%%\n"
    }
   }
  },
  {
   "cell_type": "code",
   "execution_count": 146,
   "outputs": [
    {
     "data": {
      "text/plain": "array([[-1.    ,  0.4432, -0.0341],\n       [-0.2941, -1.    ,  0.8824],\n       [-0.6316,  0.2895, -1.    ]])"
     },
     "execution_count": 146,
     "metadata": {},
     "output_type": "execute_result"
    }
   ],
   "source": [
    "B"
   ],
   "metadata": {
    "collapsed": false,
    "pycharm": {
     "name": "#%%\n"
    }
   }
  },
  {
   "cell_type": "code",
   "execution_count": 73,
   "outputs": [],
   "source": [
    "from math import log10\n",
    "import pandas as pd"
   ],
   "metadata": {
    "collapsed": false,
    "pycharm": {
     "name": "#%%\n"
    }
   }
  },
  {
   "cell_type": "code",
   "execution_count": 220,
   "outputs": [],
   "source": [
    "f = lambda B, d: round(log10(0.001 * (1 - B) / d) / log10(B), 1)"
   ],
   "metadata": {
    "collapsed": false,
    "pycharm": {
     "name": "#%%\n"
    }
   }
  },
  {
   "cell_type": "code",
   "execution_count": 215,
   "outputs": [
    {
     "data": {
      "text/plain": "0.5643"
     },
     "execution_count": 215,
     "metadata": {},
     "output_type": "execute_result"
    }
   ],
   "source": [
    "round((1 - c) / 0.4737, 4)"
   ],
   "metadata": {
    "collapsed": false,
    "pycharm": {
     "name": "#%%\n"
    }
   }
  },
  {
   "cell_type": "code",
   "execution_count": 223,
   "outputs": [
    {
     "data": {
      "text/plain": "24.0"
     },
     "execution_count": 223,
     "metadata": {},
     "output_type": "execute_result"
    }
   ],
   "source": [
    "f(c, 0.4737)"
   ],
   "metadata": {
    "collapsed": false,
    "pycharm": {
     "name": "#%%\n"
    }
   }
  },
  {
   "cell_type": "code",
   "execution_count": 244,
   "outputs": [],
   "source": [
    "def norm(a):\n",
    "    return max(abs(a))\n",
    "epsilon = 0.001\n",
    "x = [(0, 0, 0)]\n",
    "delta = [1]\n",
    "while True:\n",
    "    if delta[-1] < round((1 - c) / c * epsilon, 5):\n",
    "        result = pd.DataFrame({\n",
    "            \"x1\": [i[0] for i in x],\n",
    "            \"x2\": [i[1] for i in x],\n",
    "            \"x3\": [i[2] for i in x],\n",
    "            \"xk-xk-1\": delta\n",
    "        })\n",
    "        break\n",
    "    else:\n",
    "        x_1 = round(                     B[0][1]*x[-1][1] + B[0][2] * x[-1][2] + b[0], 4)\n",
    "        x_2 = round(B[1][0] * x[-1][0]                    + B[1][2] * x[-1][2] + b[1], 4)\n",
    "        x_3 = round(B[2][0] * x[-1][0] + B[2][1] * x[-1][1]                    + b[2], 4)\n",
    "        x.append((x_1, x_2, x_3))\n",
    "        delta.append(norm(np.array(x[-1])-np.array(x[-2])))\n",
    "\n"
   ],
   "metadata": {
    "collapsed": false,
    "pycharm": {
     "name": "#%%\n"
    }
   }
  },
  {
   "cell_type": "code",
   "execution_count": 240,
   "outputs": [],
   "source": [
    "def tabular(a):\n",
    "    \"\"\"Returns a LaTeX bmatrix\n",
    "\n",
    "    :a: numpy array\n",
    "    :returns: LaTeX bmatrix as a string\n",
    "    \"\"\"\n",
    "    if len(a.shape) > 2:\n",
    "        raise ValueError('bmatrix can at most display two dimensions')\n",
    "    lines = str(a).replace('[', '').replace(']', '').splitlines()\n",
    "    rv = [r'\\begin{tabular}[|l|*{'+ str(a.shape[1])+'}{c|}] \\hline']\n",
    "    rv += ['  ' + ' & '.join(l.split()) + r'\\\\ \\hline' for l in lines]\n",
    "    rv +=  [r'\\end{tabular}']\n",
    "    return '\\n'.join(rv)"
   ],
   "metadata": {
    "collapsed": false,
    "pycharm": {
     "name": "#%%\n"
    }
   }
  },
  {
   "cell_type": "code",
   "execution_count": 243,
   "outputs": [
    {
     "data": {
      "text/plain": "0.00036"
     },
     "execution_count": 243,
     "metadata": {},
     "output_type": "execute_result"
    }
   ],
   "source": [
    "round((1 - c) / c * epsilon, 5)"
   ],
   "metadata": {
    "collapsed": false,
    "pycharm": {
     "name": "#%%\n"
    }
   }
  },
  {
   "cell_type": "code",
   "execution_count": 245,
   "outputs": [
    {
     "name": "stdout",
     "output_type": "stream",
     "text": [
      "\\begin{tabular}[|l|*{4}{c|}] \\hline\n",
      "  x1 & x2 & x3 & xk-xk-1\\\\ \\hline\n",
      "  0 & 0.0000 & 0.0000 & 0.0000 & 1.0000\\\\ \\hline\n",
      "  1 & -0.0318 & -0.0839 & 0.4737 & 0.4737\\\\ \\hline\n",
      "  2 & -0.0852 & -0.1497 & 0.4695 & 0.0658\\\\ \\hline\n",
      "  3 & -0.1142 & -0.1959 & 0.4842 & 0.0462\\\\ \\hline\n",
      "  4 & -0.1352 & -0.2224 & 0.4891 & 0.0265\\\\ \\hline\n",
      "  5 & -0.1471 & -0.2411 & 0.4947 & 0.0187\\\\ \\hline\n",
      "  6 & -0.1555 & -0.2519 & 0.4968 & 0.0108\\\\ \\hline\n",
      "  7 & -0.1604 & -0.2594 & 0.4990 & 0.0075\\\\ \\hline\n",
      "  8 & -0.1638 & -0.2638 & 0.4999 & 0.0044\\\\ \\hline\n",
      "  9 & -0.1658 & -0.2668 & 0.5008 & 0.0030\\\\ \\hline\n",
      "  10 & -0.1671 & -0.2686 & 0.5012 & 0.0018\\\\ \\hline\n",
      "  11 & -0.1680 & -0.2698 & 0.5015 & 0.0012\\\\ \\hline\n",
      "  12 & -0.1685 & -0.2706 & 0.5017 & 0.0008\\\\ \\hline\n",
      "  13 & -0.1689 & -0.2711 & 0.5018 & 0.0005\\\\ \\hline\n",
      "  14 & -0.1691 & -0.2714 & 0.5019 & 0.0003\\\\ \\hline\n",
      "\\end{tabular}\n"
     ]
    }
   ],
   "source": [
    "print(tabular(result))"
   ],
   "metadata": {
    "collapsed": false,
    "pycharm": {
     "name": "#%%\n"
    }
   }
  },
  {
   "cell_type": "code",
   "execution_count": 264,
   "outputs": [],
   "source": [
    "def bmatrix(a):\n",
    "    \"\"\"Returns a LaTeX bmatrix\n",
    "\n",
    "    :a: numpy array\n",
    "    :returns: LaTeX bmatrix as a string\n",
    "    \"\"\"\n",
    "    if len(a.shape) > 2:\n",
    "        raise ValueError('bmatrix can at most display two dimensions')\n",
    "    lines = str(a).replace('[', '').replace(']', '').splitlines()\n",
    "    rv = [r'\\begin{pmatrix}']\n",
    "    rv += ['  ' + ' & '.join(l.split()) + r'\\\\' for l in lines]\n",
    "    rv +=  [r'\\end{pmatrix}']\n",
    "    return '\\n'.join(rv)"
   ],
   "metadata": {
    "collapsed": false,
    "pycharm": {
     "name": "#%%\n"
    }
   }
  },
  {
   "cell_type": "code",
   "execution_count": 121,
   "outputs": [],
   "source": [
    "check = np.array([[5.4, -6.2, -0.5], [3.4, 2.3, 0.8], [2.4, -1.1, 3.8]])"
   ],
   "metadata": {
    "collapsed": false,
    "pycharm": {
     "name": "#%%\n"
    }
   }
  },
  {
   "cell_type": "code",
   "execution_count": 276,
   "outputs": [
    {
     "name": "stdout",
     "output_type": "stream",
     "text": [
      "\\begin{pmatrix}\n",
      "  0.5179 & -0.8028 & 1.795\\\\\n",
      "\\end{pmatrix}\n"
     ]
    }
   ],
   "source": [
    "print(bmatrix(np.round(check @ (np.round(result.iloc[-1][:3], 3) - 0.001) ,5)))"
   ],
   "metadata": {
    "collapsed": false,
    "pycharm": {
     "name": "#%%\n"
    }
   }
  },
  {
   "cell_type": "markdown",
   "source": [],
   "metadata": {
    "collapsed": false,
    "pycharm": {
     "name": "#%% md\n"
    }
   }
  },
  {
   "cell_type": "code",
   "execution_count": 269,
   "outputs": [
    {
     "data": {
      "text/plain": "x1   -0.169\nx2   -0.271\nx3    0.502\nName: 14, dtype: float64"
     },
     "execution_count": 269,
     "metadata": {},
     "output_type": "execute_result"
    }
   ],
   "source": [
    "np.round(result.iloc[-1][:3], 3).T"
   ],
   "metadata": {
    "collapsed": false,
    "pycharm": {
     "name": "#%%\n"
    }
   }
  },
  {
   "cell_type": "code",
   "execution_count": 263,
   "outputs": [
    {
     "data": {
      "text/plain": "array([ 0.5166, -0.7963,  1.8001])"
     },
     "execution_count": 263,
     "metadata": {},
     "output_type": "execute_result"
    }
   ],
   "source": [
    "np.round(check @ np.round(result.iloc[-1][:3], 3), 4)"
   ],
   "metadata": {
    "collapsed": false,
    "pycharm": {
     "name": "#%%\n"
    }
   }
  },
  {
   "cell_type": "code",
   "execution_count": null,
   "outputs": [],
   "source": [
    "bmat"
   ],
   "metadata": {
    "collapsed": false,
    "pycharm": {
     "name": "#%%\n"
    }
   }
  },
  {
   "cell_type": "code",
   "execution_count": 135,
   "outputs": [],
   "source": [
    "test = np.array([[4.5, -1.8, 3.6], [3.1, 2.3, -1.2], [1.8, 2.5, 4.6]])\n",
    "\n",
    "ans = np.array([0.248, 1.115, -0.225]).T"
   ],
   "metadata": {
    "collapsed": false,
    "pycharm": {
     "name": "#%%\n"
    }
   }
  },
  {
   "cell_type": "code",
   "execution_count": 136,
   "outputs": [
    {
     "data": {
      "text/plain": "array([-1.701 ,  3.6033,  2.1989])"
     },
     "execution_count": 136,
     "metadata": {},
     "output_type": "execute_result"
    }
   ],
   "source": [
    "test @ ans"
   ],
   "metadata": {
    "collapsed": false,
    "pycharm": {
     "name": "#%%\n"
    }
   }
  }
 ],
 "metadata": {
  "kernelspec": {
   "display_name": "Python 3",
   "language": "python",
   "name": "python3"
  },
  "language_info": {
   "codemirror_mode": {
    "name": "ipython",
    "version": 2
   },
   "file_extension": ".py",
   "mimetype": "text/x-python",
   "name": "python",
   "nbconvert_exporter": "python",
   "pygments_lexer": "ipython2",
   "version": "2.7.6"
  }
 },
 "nbformat": 4,
 "nbformat_minor": 0
}