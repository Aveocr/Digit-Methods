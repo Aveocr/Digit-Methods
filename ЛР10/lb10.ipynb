{
 "cells": [
  {
   "cell_type": "code",
   "execution_count": 108,
   "metadata": {
    "collapsed": true,
    "pycharm": {
     "name": "#%%\n"
    }
   },
   "outputs": [],
   "source": [
    "import numpy as np\n",
    "\n",
    "A = np.array([\n",
    "    [3.75, -0.28, 0.17],\n",
    "    [2.11, -0.11, -0.12],\n",
    "    [0.22, -3.17, 1.81]\n",
    "])"
   ]
  },
  {
   "cell_type": "code",
   "execution_count": 50,
   "outputs": [],
   "source": [
    "def bmatrix(a):\n",
    "    \"\"\"Returns a LaTeX bmatrix\n",
    "\n",
    "    :a: numpy array\n",
    "    :returns: LaTeX bmatrix as a string\n",
    "    \"\"\"\n",
    "    if len(a.shape) > 2:\n",
    "        raise ValueError('bmatrix can at most display two dimensions')\n",
    "    lines = str(a).replace('[', '').replace(']', '').splitlines()\n",
    "    rv = [r'\\begin{pmatrix}[ccc|ccc]']\n",
    "    rv += ['  ' + ' & '.join(l.split()) + r'\\\\' for l in lines]\n",
    "    rv +=  [r'\\end{pmatrix}']\n",
    "    return '\\n'.join(rv)\n"
   ],
   "metadata": {
    "collapsed": false,
    "pycharm": {
     "name": "#%%\n"
    }
   }
  },
  {
   "cell_type": "code",
   "execution_count": 24,
   "outputs": [
    {
     "name": "stdout",
     "output_type": "stream",
     "text": [
      "\\begin{bmatrix}\n",
      "  3.75 & -0.28 & 0.17\\\\\n",
      "  2.11 & -0.11 & -0.12\\\\\n",
      "  0.22 & -3.17 & 1.81\\\\\n",
      "\\end{bmatrix}\n"
     ]
    }
   ],
   "source": [
    "print(bmatrix(A))"
   ],
   "metadata": {
    "collapsed": false,
    "pycharm": {
     "name": "#%%\n"
    }
   }
  },
  {
   "cell_type": "code",
   "execution_count": 109,
   "outputs": [],
   "source": [
    "def calc(A, B, j, i, elem):\n",
    "    A[i] = A[j]*elem/A[j][j] + A[i]\n",
    "    B[i] = B[j]*elem/A[j][j] + B[i]\n",
    "\n",
    "eye = np.eye(3)\n",
    "\n",
    "i = 0\n",
    "b = 1\n",
    "c = 2\n",
    "eye[b] = np.round(eye[i] * -A[b][i] / A[i][i] + eye[b], 4)\n",
    "eye[c] = np.round(eye[i] * -A[c][i] / A[i][i] + eye[c], 4)\n",
    "\n",
    "A[b] = np.round(A[i] * -A[b][i] / A[i][i] + A[1], 4)\n",
    "A[c] = np.round(A[i] * -A[c][i] / A[i][i] + A[2], 4)"
   ],
   "metadata": {
    "collapsed": false,
    "pycharm": {
     "name": "#%%\n"
    }
   }
  },
  {
   "cell_type": "code",
   "execution_count": 111,
   "outputs": [
    {
     "data": {
      "text/plain": "array([[ 3.75  , -0.28  ,  0.17  ],\n       [ 0.    ,  0.0475, -0.2157],\n       [ 0.    , -3.1536,  1.8   ]])"
     },
     "execution_count": 111,
     "metadata": {},
     "output_type": "execute_result"
    }
   ],
   "source": [
    "A"
   ],
   "metadata": {
    "collapsed": false,
    "pycharm": {
     "name": "#%%\n"
    }
   }
  },
  {
   "cell_type": "code",
   "execution_count": 112,
   "outputs": [
    {
     "data": {
      "text/plain": "array([[ 1.    ,  0.    ,  0.    ],\n       [-0.5627,  1.    ,  0.    ],\n       [-0.0587,  0.    ,  1.    ]])"
     },
     "execution_count": 112,
     "metadata": {},
     "output_type": "execute_result"
    }
   ],
   "source": [
    "eye"
   ],
   "metadata": {
    "collapsed": false,
    "pycharm": {
     "name": "#%%\n"
    }
   }
  },
  {
   "cell_type": "code",
   "execution_count": 113,
   "outputs": [],
   "source": [
    "i = 1\n",
    "b = 0\n",
    "c = 2\n",
    "eye[b] = np.round(eye[i] * -A[b][i] / A[i][i] + eye[b], 4)\n",
    "eye[c] = np.round(eye[i] * -A[c][i] / A[i][i] + eye[c], 4)\n",
    "\n",
    "A[b] = np.round(A[i] * -A[b][i] / A[i][i] + A[b], 4)\n",
    "A[c] = np.round(A[i] * -A[c][i] / A[i][i] + A[c], 4)"
   ],
   "metadata": {
    "collapsed": false,
    "pycharm": {
     "name": "#%%\n"
    }
   }
  },
  {
   "cell_type": "code",
   "execution_count": 114,
   "outputs": [
    {
     "data": {
      "text/plain": "array([[  3.75  ,   0.    ,  -1.1015],\n       [  0.    ,   0.0475,  -0.2157],\n       [  0.    ,   0.    , -12.5207]])"
     },
     "execution_count": 114,
     "metadata": {},
     "output_type": "execute_result"
    }
   ],
   "source": [
    "A"
   ],
   "metadata": {
    "collapsed": false,
    "pycharm": {
     "name": "#%%\n"
    }
   }
  },
  {
   "cell_type": "code",
   "execution_count": 115,
   "outputs": [
    {
     "data": {
      "text/plain": "array([[ -2.317 ,   5.8947,   0.    ],\n       [ -0.5627,   1.    ,   0.    ],\n       [-37.4172,  66.3916,   1.    ]])"
     },
     "execution_count": 115,
     "metadata": {},
     "output_type": "execute_result"
    }
   ],
   "source": [
    "eye"
   ],
   "metadata": {
    "collapsed": false,
    "pycharm": {
     "name": "#%%\n"
    }
   }
  },
  {
   "cell_type": "code",
   "execution_count": 95,
   "outputs": [],
   "source": [
    "C = np.array([\n",
    "    [3.75, -0.28, 0.17],\n",
    "    [2.11, -0.11, -0.12],\n",
    "    [0.22, -3.17, 1.81]\n",
    "])"
   ],
   "metadata": {
    "collapsed": false,
    "pycharm": {
     "name": "#%%\n"
    }
   }
  },
  {
   "cell_type": "code",
   "execution_count": 125,
   "outputs": [
    {
     "data": {
      "text/plain": "-2.22935"
     },
     "execution_count": 125,
     "metadata": {},
     "output_type": "execute_result"
    }
   ],
   "source": [
    "np.round(np.linalg.det(C), 7)"
   ],
   "metadata": {
    "collapsed": false,
    "pycharm": {
     "name": "#%%\n"
    }
   }
  },
  {
   "cell_type": "code",
   "execution_count": 126,
   "outputs": [
    {
     "data": {
      "text/plain": "-2.2302675"
     },
     "execution_count": 126,
     "metadata": {},
     "output_type": "execute_result"
    }
   ],
   "source": [
    "np.round(3.75 * 0.0475 * -12.5208, 7)"
   ],
   "metadata": {
    "collapsed": false,
    "pycharm": {
     "name": "#%%\n"
    }
   }
  },
  {
   "cell_type": "code",
   "execution_count": 116,
   "outputs": [],
   "source": [
    "i = 2\n",
    "b = 0\n",
    "c = 1\n",
    "eye[b] = np.round(eye[i] * -A[b][i] / A[i][i] + eye[b], 4)\n",
    "eye[c] = np.round(eye[i] * -A[c][i] / A[i][i] + eye[c], 4)\n",
    "\n",
    "A[b] = np.round(A[i] * -A[b][i] / A[i][i] + A[b], 4)\n",
    "A[c] = np.round(A[i] * -A[c][i] / A[i][i] + A[c], 4)"
   ],
   "metadata": {
    "collapsed": false,
    "pycharm": {
     "name": "#%%\n"
    }
   }
  },
  {
   "cell_type": "code",
   "execution_count": 117,
   "outputs": [
    {
     "data": {
      "text/plain": "array([[ 9.74800e-01,  5.39000e-02, -8.80000e-02],\n       [ 8.19000e-02, -1.43800e-01, -1.72000e-02],\n       [-3.74172e+01,  6.63916e+01,  1.00000e+00]])"
     },
     "execution_count": 117,
     "metadata": {},
     "output_type": "execute_result"
    }
   ],
   "source": [
    "eye"
   ],
   "metadata": {
    "collapsed": false,
    "pycharm": {
     "name": "#%%\n"
    }
   }
  },
  {
   "cell_type": "code",
   "execution_count": 118,
   "outputs": [
    {
     "data": {
      "text/plain": "array([[  3.75  ,   0.    ,   0.    ],\n       [  0.    ,   0.0475,   0.    ],\n       [  0.    ,   0.    , -12.5207]])"
     },
     "execution_count": 118,
     "metadata": {},
     "output_type": "execute_result"
    }
   ],
   "source": [
    "A"
   ],
   "metadata": {
    "collapsed": false,
    "pycharm": {
     "name": "#%%\n"
    }
   }
  },
  {
   "cell_type": "code",
   "execution_count": 120,
   "outputs": [],
   "source": [
    "eye[0] = eye[0]/A[0][0]\n",
    "eye[1] = eye[1]/A[1][1]\n",
    "eye[2] = eye[2]/A[2][2]"
   ],
   "metadata": {
    "collapsed": false,
    "pycharm": {
     "name": "#%%\n"
    }
   }
  },
  {
   "cell_type": "code",
   "execution_count": 129,
   "outputs": [],
   "source": [
    "eye = np.round(eye, 4)"
   ],
   "metadata": {
    "collapsed": false,
    "pycharm": {
     "name": "#%%\n"
    }
   }
  },
  {
   "cell_type": "code",
   "execution_count": 130,
   "outputs": [
    {
     "name": "stdout",
     "output_type": "stream",
     "text": [
      "\\begin{pmatrix}[ccc|ccc]\n",
      "  0.2599 & 0.0144 & -0.0235\\\\\n",
      "  1.7242 & -3.0274 & -0.3621\\\\\n",
      "  2.9884 & -5.3025 & -0.0799\\\\\n",
      "\\end{pmatrix}\n"
     ]
    }
   ],
   "source": [
    "print(bmatrix(eye))"
   ],
   "metadata": {
    "collapsed": false,
    "pycharm": {
     "name": "#%%\n"
    }
   }
  },
  {
   "cell_type": "code",
   "execution_count": 98,
   "outputs": [
    {
     "data": {
      "text/plain": "array([ 2.02624   , -3.12946667,  0.02346667])"
     },
     "execution_count": 98,
     "metadata": {},
     "output_type": "execute_result"
    }
   ],
   "source": [
    "eye[0]/A[0][0]"
   ],
   "metadata": {
    "collapsed": false,
    "pycharm": {
     "name": "#%%\n"
    }
   }
  },
  {
   "cell_type": "code",
   "execution_count": 90,
   "outputs": [
    {
     "data": {
      "text/plain": "array([[ 0.25994124,  0.01439882, -0.02345975],\n       [ 1.72494225, -3.02783322, -0.36275147],\n       [ 2.98943638, -5.30464037, -0.07997847]])"
     },
     "execution_count": 90,
     "metadata": {},
     "output_type": "execute_result"
    }
   ],
   "source": [
    "np.linalg.inv(C)"
   ],
   "metadata": {
    "collapsed": false,
    "pycharm": {
     "name": "#%%\n"
    }
   }
  },
  {
   "cell_type": "code",
   "execution_count": 139,
   "outputs": [
    {
     "data": {
      "text/plain": "array([[ 1.,  0., -0.],\n       [ 0.,  1., -0.],\n       [ 0.,  0.,  1.]])"
     },
     "execution_count": 139,
     "metadata": {},
     "output_type": "execute_result"
    }
   ],
   "source": [
    "np.round(C @ eye)"
   ],
   "metadata": {
    "collapsed": false,
    "pycharm": {
     "name": "#%%\n"
    }
   }
  },
  {
   "cell_type": "code",
   "execution_count": 141,
   "outputs": [
    {
     "name": "stdout",
     "output_type": "stream",
     "text": [
      "\\begin{pmatrix}[ccc|ccc]\n",
      "  3.75 & -0.28 & 0.17\\\\\n",
      "  2.11 & -0.11 & -0.12\\\\\n",
      "  0.22 & -3.17 & 1.81\\\\\n",
      "\\end{pmatrix} \\begin{pmatrix}[ccc|ccc]\n",
      "  0.2599 & 0.0144 & -0.0235\\\\\n",
      "  1.7242 & -3.0274 & -0.3621\\\\\n",
      "  2.9884 & -5.3025 & -0.0799\\\\\n",
      "\\end{pmatrix}\n"
     ]
    }
   ],
   "source": [
    "print(bmatrix(C), bmatrix(eye))"
   ],
   "metadata": {
    "collapsed": false,
    "pycharm": {
     "name": "#%%\n"
    }
   }
  },
  {
   "cell_type": "code",
   "execution_count": 142,
   "outputs": [
    {
     "name": "stdout",
     "output_type": "stream",
     "text": [
      "\\begin{pmatrix}[ccc|ccc]\n",
      "  1. & 0. & 0.\\\\\n",
      "  0. & 1. & 0.\\\\\n",
      "  0. & 0. & 1.\\\\\n",
      "\\end{pmatrix}\n"
     ]
    }
   ],
   "source": [
    "print(bmatrix(np.eye(3)))"
   ],
   "metadata": {
    "collapsed": false,
    "pycharm": {
     "name": "#%%\n"
    }
   }
  }
 ],
 "metadata": {
  "kernelspec": {
   "display_name": "Python 3",
   "language": "python",
   "name": "python3"
  },
  "language_info": {
   "codemirror_mode": {
    "name": "ipython",
    "version": 2
   },
   "file_extension": ".py",
   "mimetype": "text/x-python",
   "name": "python",
   "nbconvert_exporter": "python",
   "pygments_lexer": "ipython2",
   "version": "2.7.6"
  }
 },
 "nbformat": 4,
 "nbformat_minor": 0
}