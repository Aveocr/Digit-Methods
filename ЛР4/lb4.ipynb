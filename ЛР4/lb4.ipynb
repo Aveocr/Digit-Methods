{
 "cells": [
  {
   "cell_type": "code",
   "execution_count": 1,
   "metadata": {
    "collapsed": true,
    "pycharm": {
     "name": "#%%\n"
    }
   },
   "outputs": [],
   "source": [
    "import math\n",
    "import numpy as np\n",
    "import pandas as pd\n",
    "\n",
    "\n",
    "def f(x):\n",
    "    return round(5*x-8*np.log(x) - 8, 4)\n",
    "    # return round(x - math.exp(-x), 4)"
   ]
  },
  {
   "cell_type": "code",
   "execution_count": 2,
   "outputs": [
    {
     "name": "stdout",
     "output_type": "stream",
     "text": [
      "-86.6742 < 0\n",
      "-7.37831805 < 0\n"
     ]
    }
   ],
   "source": [
    "print(f(0.01)*f(1), \"< 0\")\n",
    "print(f(3)*f(5), \"< 0\")"
   ],
   "metadata": {
    "collapsed": false,
    "pycharm": {
     "name": "#%%\n"
    }
   }
  },
  {
   "cell_type": "code",
   "execution_count": 50,
   "outputs": [
    {
     "data": {
      "text/plain": "(28.8914, -3.0)"
     },
     "execution_count": 50,
     "metadata": {},
     "output_type": "execute_result"
    }
   ],
   "source": [
    "f(0.01), f(1)"
   ],
   "metadata": {
    "collapsed": false,
    "pycharm": {
     "name": "#%%\n"
    }
   }
  },
  {
   "cell_type": "code",
   "execution_count": 6,
   "outputs": [],
   "source": [
    "epsilon = 0.001\n",
    "\n",
    "def solve(f, a, b):\n",
    "    a_list = [a]\n",
    "    b_list = [b]\n",
    "    c = (a+b)/2\n",
    "    c_list = [c]\n",
    "    abs_list = [abs(b-a)]\n",
    "    while math.fabs(f(c))>= epsilon:\n",
    "        # Метод бисекции\n",
    "        # if math.fabs(f(c))>= epsilon:\n",
    "            a, b = (a, c) if f(a) * f(c) < 0 else (c, b)\n",
    "            c = round((a + b) / 2, 4)\n",
    "            a_list.append(a)\n",
    "            b_list.append(b)\n",
    "            c_list.append(c)\n",
    "            abs_list.append(abs(b-a))\n",
    "\n",
    "    return pd.DataFrame({\"a\": a_list,\n",
    "                         \"b\": b_list,\n",
    "                         \"c\": c_list,\n",
    "                         \"F(a)\": list(map(f, a_list)),\n",
    "                         \"F(b)\": list(map(f, b_list)),\n",
    "                         \"F(c)\": list(map(f, c_list)),\n",
    "                         \"|b-a|\":abs_list})\n"
   ],
   "metadata": {
    "collapsed": false,
    "pycharm": {
     "name": "#%%\n"
    }
   }
  },
  {
   "cell_type": "code",
   "execution_count": 7,
   "outputs": [
    {
     "data": {
      "text/plain": "         a       b       c     F(a)    F(b)    F(c)   |b-a|\n0   0.0100  1.0000  0.5050  28.8914 -3.0000 -0.0094  0.9900\n1   0.0100  0.5050  0.2575  28.8914 -0.0094  4.1414  0.4950\n2   0.2575  0.5050  0.3812   4.1414 -0.0094  1.6214  0.2475\n3   0.3812  0.5050  0.4431   1.6214 -0.0094  0.7272  0.1238\n4   0.4431  0.5050  0.4740   0.7272 -0.0094  0.3424  0.0619\n5   0.4740  0.5050  0.4895   0.3424 -0.0094  0.1625  0.0310\n6   0.4895  0.5050  0.4972   0.1625 -0.0094  0.0761  0.0155\n7   0.4972  0.5050  0.5011   0.0761 -0.0094  0.0331  0.0078\n8   0.5011  0.5050  0.5030   0.0331 -0.0094  0.0123  0.0039\n9   0.5030  0.5050  0.5040   0.0123 -0.0094  0.0014  0.0020\n10  0.5040  0.5050  0.5045   0.0014 -0.0094 -0.0040  0.0010\n11  0.5040  0.5045  0.5042   0.0014 -0.0040 -0.0007  0.0005",
      "text/html": "<div>\n<style scoped>\n    .dataframe tbody tr th:only-of-type {\n        vertical-align: middle;\n    }\n\n    .dataframe tbody tr th {\n        vertical-align: top;\n    }\n\n    .dataframe thead th {\n        text-align: right;\n    }\n</style>\n<table border=\"1\" class=\"dataframe\">\n  <thead>\n    <tr style=\"text-align: right;\">\n      <th></th>\n      <th>a</th>\n      <th>b</th>\n      <th>c</th>\n      <th>F(a)</th>\n      <th>F(b)</th>\n      <th>F(c)</th>\n      <th>|b-a|</th>\n    </tr>\n  </thead>\n  <tbody>\n    <tr>\n      <th>0</th>\n      <td>0.0100</td>\n      <td>1.0000</td>\n      <td>0.5050</td>\n      <td>28.8914</td>\n      <td>-3.0000</td>\n      <td>-0.0094</td>\n      <td>0.9900</td>\n    </tr>\n    <tr>\n      <th>1</th>\n      <td>0.0100</td>\n      <td>0.5050</td>\n      <td>0.2575</td>\n      <td>28.8914</td>\n      <td>-0.0094</td>\n      <td>4.1414</td>\n      <td>0.4950</td>\n    </tr>\n    <tr>\n      <th>2</th>\n      <td>0.2575</td>\n      <td>0.5050</td>\n      <td>0.3812</td>\n      <td>4.1414</td>\n      <td>-0.0094</td>\n      <td>1.6214</td>\n      <td>0.2475</td>\n    </tr>\n    <tr>\n      <th>3</th>\n      <td>0.3812</td>\n      <td>0.5050</td>\n      <td>0.4431</td>\n      <td>1.6214</td>\n      <td>-0.0094</td>\n      <td>0.7272</td>\n      <td>0.1238</td>\n    </tr>\n    <tr>\n      <th>4</th>\n      <td>0.4431</td>\n      <td>0.5050</td>\n      <td>0.4740</td>\n      <td>0.7272</td>\n      <td>-0.0094</td>\n      <td>0.3424</td>\n      <td>0.0619</td>\n    </tr>\n    <tr>\n      <th>5</th>\n      <td>0.4740</td>\n      <td>0.5050</td>\n      <td>0.4895</td>\n      <td>0.3424</td>\n      <td>-0.0094</td>\n      <td>0.1625</td>\n      <td>0.0310</td>\n    </tr>\n    <tr>\n      <th>6</th>\n      <td>0.4895</td>\n      <td>0.5050</td>\n      <td>0.4972</td>\n      <td>0.1625</td>\n      <td>-0.0094</td>\n      <td>0.0761</td>\n      <td>0.0155</td>\n    </tr>\n    <tr>\n      <th>7</th>\n      <td>0.4972</td>\n      <td>0.5050</td>\n      <td>0.5011</td>\n      <td>0.0761</td>\n      <td>-0.0094</td>\n      <td>0.0331</td>\n      <td>0.0078</td>\n    </tr>\n    <tr>\n      <th>8</th>\n      <td>0.5011</td>\n      <td>0.5050</td>\n      <td>0.5030</td>\n      <td>0.0331</td>\n      <td>-0.0094</td>\n      <td>0.0123</td>\n      <td>0.0039</td>\n    </tr>\n    <tr>\n      <th>9</th>\n      <td>0.5030</td>\n      <td>0.5050</td>\n      <td>0.5040</td>\n      <td>0.0123</td>\n      <td>-0.0094</td>\n      <td>0.0014</td>\n      <td>0.0020</td>\n    </tr>\n    <tr>\n      <th>10</th>\n      <td>0.5040</td>\n      <td>0.5050</td>\n      <td>0.5045</td>\n      <td>0.0014</td>\n      <td>-0.0094</td>\n      <td>-0.0040</td>\n      <td>0.0010</td>\n    </tr>\n    <tr>\n      <th>11</th>\n      <td>0.5040</td>\n      <td>0.5045</td>\n      <td>0.5042</td>\n      <td>0.0014</td>\n      <td>-0.0040</td>\n      <td>-0.0007</td>\n      <td>0.0005</td>\n    </tr>\n  </tbody>\n</table>\n</div>"
     },
     "execution_count": 7,
     "metadata": {},
     "output_type": "execute_result"
    }
   ],
   "source": [
    "solve(f, 0.01, 1)"
   ],
   "metadata": {
    "collapsed": false,
    "pycharm": {
     "name": "#%%\n"
    }
   }
  },
  {
   "cell_type": "code",
   "execution_count": 8,
   "outputs": [
    {
     "data": {
      "text/plain": "-0.0094"
     },
     "execution_count": 8,
     "metadata": {},
     "output_type": "execute_result"
    }
   ],
   "source": [
    "f(0.505)"
   ],
   "metadata": {
    "collapsed": false,
    "pycharm": {
     "name": "#%%\n"
    }
   }
  },
  {
   "cell_type": "code",
   "execution_count": 78,
   "outputs": [
    {
     "data": {
      "text/plain": "9.951284714966972"
     },
     "execution_count": 78,
     "metadata": {},
     "output_type": "execute_result"
    }
   ],
   "source": [
    "(np.log(abs(1-0.01)) - np.log(epsilon)) / np.log(2)"
   ],
   "metadata": {
    "collapsed": false,
    "pycharm": {
     "name": "#%%\n"
    }
   }
  },
  {
   "cell_type": "code",
   "execution_count": null,
   "outputs": [],
   "source": [],
   "metadata": {
    "collapsed": false,
    "pycharm": {
     "name": "#%%\n"
    }
   }
  }
 ],
 "metadata": {
  "kernelspec": {
   "display_name": "Python 3",
   "language": "python",
   "name": "python3"
  },
  "language_info": {
   "codemirror_mode": {
    "name": "ipython",
    "version": 2
   },
   "file_extension": ".py",
   "mimetype": "text/x-python",
   "name": "python",
   "nbconvert_exporter": "python",
   "pygments_lexer": "ipython2",
   "version": "2.7.6"
  }
 },
 "nbformat": 4,
 "nbformat_minor": 0
}