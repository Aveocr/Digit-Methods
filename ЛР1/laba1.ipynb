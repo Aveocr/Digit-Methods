{
 "cells": [
  {
   "cell_type": "code",
   "execution_count": 1,
   "metadata": {
    "collapsed": true,
    "pycharm": {
     "name": "#%%\n"
    }
   },
   "outputs": [],
   "source": [
    "# Вариант 14\n",
    "A = 7.11\n",
    "B = 5.19\n",
    "C = 2.2\n",
    "# погрешность\n",
    "error = (0.01, 0.03, 0.1)"
   ]
  },
  {
   "cell_type": "code",
   "execution_count": 5,
   "outputs": [],
   "source": [
    "def f(a, b, c):\n",
    "    return round((a + b + c) ** 2 / (a ** 0.5 + b), 3)"
   ],
   "metadata": {
    "collapsed": false,
    "pycharm": {
     "name": "#%%\n"
    }
   }
  },
  {
   "cell_type": "code",
   "execution_count": 6,
   "outputs": [
    {
     "data": {
      "text/plain": "26.761"
     },
     "execution_count": 6,
     "metadata": {},
     "output_type": "execute_result"
    }
   ],
   "source": [
    "f(A, B, C)"
   ],
   "metadata": {
    "collapsed": false,
    "pycharm": {
     "name": "#%%\n"
    }
   }
  },
  {
   "cell_type": "code",
   "execution_count": 8,
   "outputs": [
    {
     "name": "stdout",
     "output_type": "stream",
     "text": [
      "Абсолютная погрешность (a+b+c)^2:  0.019\n"
     ]
    }
   ],
   "source": [
    "# абсолютная ошибка (a+b+c)^2\n",
    "abs_error = round(2 * sum(error) / abs(A + B + C), 3)\n",
    "print(\"Абсолютная погрешность (a+b+c)^2: \", abs_error)"
   ],
   "metadata": {
    "collapsed": false,
    "pycharm": {
     "name": "#%%\n"
    }
   }
  },
  {
   "cell_type": "markdown",
   "source": [],
   "metadata": {
    "collapsed": false,
    "pycharm": {
     "name": "#%% md\n"
    }
   }
  },
  {
   "cell_type": "code",
   "execution_count": 9,
   "outputs": [
    {
     "name": "stdout",
     "output_type": "stream",
     "text": [
      "Абсолютная погрешность sqrt(a) + b:  0.004\n"
     ]
    }
   ],
   "source": [
    "abs_error_2 = round((0.5 * error[0] / abs(A) + error[1]) / (A ** 0.5 + B), 3)\n",
    "print(\"Абсолютная погрешность sqrt(a) + b: \", abs_error_2)"
   ],
   "metadata": {
    "collapsed": false,
    "pycharm": {
     "name": "#%%\n"
    }
   }
  },
  {
   "cell_type": "code",
   "execution_count": 10,
   "outputs": [
    {
     "name": "stdout",
     "output_type": "stream",
     "text": [
      "Абсолютная погрешность фукнции:  0.616\n"
     ]
    }
   ],
   "source": [
    "abs_error_s = round(f(A,B,C) * (abs_error + abs_error_2), 3)\n",
    "print(\"Абсолютная погрешность фукнции: \" , abs_error_s)"
   ],
   "metadata": {
    "collapsed": false,
    "pycharm": {
     "name": "#%%\n"
    }
   }
  },
  {
   "cell_type": "code",
   "execution_count": 18,
   "outputs": [
    {
     "name": "stdout",
     "output_type": "stream",
     "text": [
      "Функция: 26.761 +- 0.616, по 1163%\n"
     ]
    }
   ],
   "source": [
    "print(\"Функция: %.3f +- %.3f, по %d%%\" % (f(A,B,C), abs_error_s, f(A, B, C) / (abs_error + abs_error_2)))"
   ],
   "metadata": {
    "collapsed": false,
    "pycharm": {
     "name": "#%%\n"
    }
   }
  },
  {
   "cell_type": "code",
   "execution_count": 19,
   "outputs": [
    {
     "data": {
      "text/plain": "0.023"
     },
     "execution_count": 19,
     "metadata": {},
     "output_type": "execute_result"
    }
   ],
   "source": [
    "(abs_error + abs_error_2)"
   ],
   "metadata": {
    "collapsed": false,
    "pycharm": {
     "name": "#%%\n"
    }
   }
  }
 ],
 "metadata": {
  "kernelspec": {
   "display_name": "Python 3",
   "language": "python",
   "name": "python3"
  },
  "language_info": {
   "codemirror_mode": {
    "name": "ipython",
    "version": 2
   },
   "file_extension": ".py",
   "mimetype": "text/x-python",
   "name": "python",
   "nbconvert_exporter": "python",
   "pygments_lexer": "ipython2",
   "version": "2.7.6"
  }
 },
 "nbformat": 4,
 "nbformat_minor": 0
}