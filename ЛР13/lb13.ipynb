{
 "cells": [
  {
   "cell_type": "code",
   "execution_count": 1,
   "metadata": {
    "collapsed": true,
    "pycharm": {
     "name": "#%%\n"
    }
   },
   "outputs": [],
   "source": [
    "import numpy as np\n",
    "import pandas as pd"
   ]
  },
  {
   "cell_type": "code",
   "execution_count": 2,
   "outputs": [],
   "source": [
    "A = np.array([[5.4, -6.2, -0.5], [3.4, 2.3, 0.8], [2.4, -1.1, 3.8]])\n",
    "b = np.array([0.52, -0.8, 1.8]).T"
   ],
   "metadata": {
    "collapsed": false,
    "pycharm": {
     "name": "#%%\n"
    }
   }
  },
  {
   "cell_type": "code",
   "execution_count": 3,
   "outputs": [],
   "source": [
    "A[0] = A[0] + A[1]\n",
    "b[0] = b[0] + b[1]"
   ],
   "metadata": {
    "collapsed": false,
    "pycharm": {
     "name": "#%%\n"
    }
   }
  },
  {
   "cell_type": "code",
   "execution_count": 4,
   "outputs": [],
   "source": [
    "A[1] = A[1] - A[0]\n",
    "b[1] -= b[0]"
   ],
   "metadata": {
    "collapsed": false,
    "pycharm": {
     "name": "#%%\n"
    }
   }
  },
  {
   "cell_type": "code",
   "execution_count": 197,
   "outputs": [
    {
     "data": {
      "text/plain": "array([-0.28, -0.52,  1.8 ])"
     },
     "execution_count": 197,
     "metadata": {},
     "output_type": "execute_result"
    }
   ],
   "source": [
    "b"
   ],
   "metadata": {
    "collapsed": false,
    "pycharm": {
     "name": "#%%\n"
    }
   }
  },
  {
   "cell_type": "code",
   "execution_count": 5,
   "outputs": [],
   "source": [
    "b[0] = b[0] / A[0][0]\n",
    "b[1] = b[1] / A[1][1]\n",
    "b[2] = b[2] / A[2][2]\n",
    "A[0] = A[0] / A[0][0]\n",
    "A[1] = A[1] / A[1][1]\n",
    "A[2] = A[2] / A[2][2]"
   ],
   "metadata": {
    "collapsed": false,
    "pycharm": {
     "name": "#%%\n"
    }
   }
  },
  {
   "cell_type": "code",
   "execution_count": 204,
   "outputs": [
    {
     "data": {
      "text/plain": "array([-0.0318, -0.0839,  0.4737])"
     },
     "execution_count": 204,
     "metadata": {},
     "output_type": "execute_result"
    }
   ],
   "source": [
    "np.round(b, 4)"
   ],
   "metadata": {
    "collapsed": false,
    "pycharm": {
     "name": "#%%\n"
    }
   }
  },
  {
   "cell_type": "code",
   "execution_count": 7,
   "outputs": [
    {
     "name": "stdout",
     "output_type": "stream",
     "text": [
      "[[-1.      0.4432 -0.0341]\n",
      " [ 0.871  -1.     -0.0806]\n",
      " [-0.6316  0.2895 -1.    ]]\n"
     ]
    }
   ],
   "source": [
    "B = -1 * np.round(A, 4 )\n",
    "print(B)"
   ],
   "metadata": {
    "collapsed": false,
    "pycharm": {
     "name": "#%%\n"
    }
   }
  },
  {
   "cell_type": "code",
   "execution_count": 8,
   "outputs": [
    {
     "name": "stdout",
     "output_type": "stream",
     "text": [
      "[0.2394 0.7327 0.1147]\n"
     ]
    }
   ],
   "source": [
    "print(abs(sum(B)+1))"
   ],
   "metadata": {
    "collapsed": false,
    "pycharm": {
     "name": "#%%\n"
    }
   }
  },
  {
   "cell_type": "code",
   "execution_count": 22,
   "outputs": [],
   "source": [
    "c = max(abs(sum(B)+1))"
   ],
   "metadata": {
    "collapsed": false,
    "pycharm": {
     "name": "#%%\n"
    }
   }
  },
  {
   "cell_type": "code",
   "execution_count": 21,
   "outputs": [
    {
     "ename": "TypeError",
     "evalue": "type numpy.ndarray doesn't define __round__ method",
     "output_type": "error",
     "traceback": [
      "\u001B[1;31m---------------------------------------------------------------------------\u001B[0m",
      "\u001B[1;31mTypeError\u001B[0m                                 Traceback (most recent call last)",
      "\u001B[1;32m<ipython-input-21-73e293710344>\u001B[0m in \u001B[0;36m<module>\u001B[1;34m\u001B[0m\n\u001B[1;32m----> 1\u001B[1;33m \u001B[0mround\u001B[0m\u001B[1;33m(\u001B[0m\u001B[1;36m1\u001B[0m \u001B[1;33m-\u001B[0m \u001B[0mc\u001B[0m\u001B[1;33m,\u001B[0m \u001B[1;36m4\u001B[0m\u001B[1;33m)\u001B[0m\u001B[1;33m\u001B[0m\u001B[1;33m\u001B[0m\u001B[0m\n\u001B[0m",
      "\u001B[1;31mTypeError\u001B[0m: type numpy.ndarray doesn't define __round__ method"
     ]
    }
   ],
   "source": [
    "round(1 - c, 4)"
   ],
   "metadata": {
    "collapsed": false,
    "pycharm": {
     "name": "#%%\n"
    }
   }
  },
  {
   "cell_type": "code",
   "execution_count": 11,
   "outputs": [],
   "source": [
    "from math import log10"
   ],
   "metadata": {
    "collapsed": false,
    "pycharm": {
     "name": "#%%\n"
    }
   }
  },
  {
   "cell_type": "code",
   "execution_count": 24,
   "outputs": [],
   "source": [
    "f = lambda B, d: round(log10(0.001 * (1 - B) / d) / log10(B), 2)"
   ],
   "metadata": {
    "collapsed": false,
    "pycharm": {
     "name": "#%%\n"
    }
   }
  },
  {
   "cell_type": "code",
   "execution_count": 215,
   "outputs": [
    {
     "data": {
      "text/plain": "0.5643"
     },
     "execution_count": 215,
     "metadata": {},
     "output_type": "execute_result"
    }
   ],
   "source": [
    "round((1 - c) / 0.4737, 4)"
   ],
   "metadata": {
    "collapsed": false,
    "pycharm": {
     "name": "#%%\n"
    }
   }
  },
  {
   "cell_type": "code",
   "execution_count": 25,
   "outputs": [
    {
     "data": {
      "text/plain": "24.05"
     },
     "execution_count": 25,
     "metadata": {},
     "output_type": "execute_result"
    }
   ],
   "source": [
    "f(c, round(max(abs(b)),4))"
   ],
   "metadata": {
    "collapsed": false,
    "pycharm": {
     "name": "#%%\n"
    }
   }
  },
  {
   "cell_type": "code",
   "execution_count": 19,
   "outputs": [
    {
     "data": {
      "text/plain": "(array([0.2394, 0.7327, 0.1147]), 0.4737)"
     },
     "execution_count": 19,
     "metadata": {},
     "output_type": "execute_result"
    }
   ],
   "source": [
    "round(max(abs(b)),4)"
   ],
   "metadata": {
    "collapsed": false,
    "pycharm": {
     "name": "#%%\n"
    }
   }
  },
  {
   "cell_type": "code",
   "execution_count": 42,
   "outputs": [],
   "source": [
    "def norm(a):\n",
    "    return max(abs(a))\n",
    "epsilon = 0.001\n",
    "x = [(0, 0, 0)]\n",
    "delta = [1]\n",
    "while True:\n",
    "    if delta[-1] < epsilon:\n",
    "        result = pd.DataFrame({\n",
    "            \"$x_1^{(k)}\": [i[0] for i in x],\n",
    "            \"x_2^{(k)}\": [i[1] for i in x],\n",
    "            \"x_3^{(k)}$\": [i[2] for i in x],\n",
    "            \"$\\Vert x^{(k)}-x^{(k-1)} \\Vert $\": delta\n",
    "        })\n",
    "        break\n",
    "    else:\n",
    "        x_1 = round(                     B[0][1]*x[-1][1] + B[0][2] * x[-1][2] + b[0], 4)\n",
    "        x_2 = round(B[1][0] * x_1                    + B[1][2] * x[-1][2] + b[1], 4)\n",
    "        x_3 = round(B[2][0] * x_1 + B[2][1] * x_2                   + b[2], 4)\n",
    "        x.append((x_1, x_2, x_3))\n",
    "        delta.append(norm(np.array(x[-1])-np.array(x[-2])))\n",
    "\n"
   ],
   "metadata": {
    "collapsed": false,
    "pycharm": {
     "name": "#%%\n"
    }
   }
  },
  {
   "cell_type": "code",
   "execution_count": 27,
   "outputs": [],
   "source": [
    "def tabular(a):\n",
    "    \"\"\"Returns a LaTeX bmatrix\n",
    "\n",
    "    :a: numpy array\n",
    "    :returns: LaTeX bmatrix as a string\n",
    "    \"\"\"\n",
    "    if len(a.shape) > 2:\n",
    "        raise ValueError('bmatrix can at most display two dimensions')\n",
    "    lines = str(a).replace('[', '').replace(']', '').splitlines()\n",
    "    rv = [r'\\begin{tabular}[|l|*{'+ str(a.shape[1])+'}{c|}] \\hline']\n",
    "    rv += ['  ' + ' & '.join(l.split()) + r'\\\\ \\hline' for l in lines]\n",
    "    rv +=  [r'\\end{tabular}']\n",
    "    return '\\n'.join(rv)"
   ],
   "metadata": {
    "collapsed": false,
    "pycharm": {
     "name": "#%%\n"
    }
   }
  },
  {
   "cell_type": "code",
   "execution_count": 243,
   "outputs": [
    {
     "data": {
      "text/plain": "0.00036"
     },
     "execution_count": 243,
     "metadata": {},
     "output_type": "execute_result"
    }
   ],
   "source": [
    "round((1 - c) / c * epsilon, 5)"
   ],
   "metadata": {
    "collapsed": false,
    "pycharm": {
     "name": "#%%\n"
    }
   }
  },
  {
   "cell_type": "code",
   "execution_count": 32,
   "outputs": [
    {
     "data": {
      "text/plain": "   x_1^{(k)}  x_2^{(k)}  x_3^{(k)}  $\\Vert x^{(k)}-x^{(k-1)} \\Vert $\n0     0.0000     0.0000     0.0000                            1.0000\n1    -0.0318    -0.1116     0.4615                            0.4615\n2    -0.0970    -0.2056     0.4754                            0.0940\n3    -0.1392    -0.2434     0.4911                            0.0422\n4    -0.1564    -0.2597     0.4973                            0.0172\n5    -0.1639    -0.2667     0.5000                            0.0075\n6    -0.1671    -0.2697     0.5011                            0.0032\n7    -0.1684    -0.2709     0.5016                            0.0013\n8    -0.1690    -0.2715     0.5018                            0.0006",
      "text/html": "<div>\n<style scoped>\n    .dataframe tbody tr th:only-of-type {\n        vertical-align: middle;\n    }\n\n    .dataframe tbody tr th {\n        vertical-align: top;\n    }\n\n    .dataframe thead th {\n        text-align: right;\n    }\n</style>\n<table border=\"1\" class=\"dataframe\">\n  <thead>\n    <tr style=\"text-align: right;\">\n      <th></th>\n      <th>x_1^{(k)}</th>\n      <th>x_2^{(k)}</th>\n      <th>x_3^{(k)}</th>\n      <th>$\\Vert x^{(k)}-x^{(k-1)} \\Vert $</th>\n    </tr>\n  </thead>\n  <tbody>\n    <tr>\n      <th>0</th>\n      <td>0.0000</td>\n      <td>0.0000</td>\n      <td>0.0000</td>\n      <td>1.0000</td>\n    </tr>\n    <tr>\n      <th>1</th>\n      <td>-0.0318</td>\n      <td>-0.1116</td>\n      <td>0.4615</td>\n      <td>0.4615</td>\n    </tr>\n    <tr>\n      <th>2</th>\n      <td>-0.0970</td>\n      <td>-0.2056</td>\n      <td>0.4754</td>\n      <td>0.0940</td>\n    </tr>\n    <tr>\n      <th>3</th>\n      <td>-0.1392</td>\n      <td>-0.2434</td>\n      <td>0.4911</td>\n      <td>0.0422</td>\n    </tr>\n    <tr>\n      <th>4</th>\n      <td>-0.1564</td>\n      <td>-0.2597</td>\n      <td>0.4973</td>\n      <td>0.0172</td>\n    </tr>\n    <tr>\n      <th>5</th>\n      <td>-0.1639</td>\n      <td>-0.2667</td>\n      <td>0.5000</td>\n      <td>0.0075</td>\n    </tr>\n    <tr>\n      <th>6</th>\n      <td>-0.1671</td>\n      <td>-0.2697</td>\n      <td>0.5011</td>\n      <td>0.0032</td>\n    </tr>\n    <tr>\n      <th>7</th>\n      <td>-0.1684</td>\n      <td>-0.2709</td>\n      <td>0.5016</td>\n      <td>0.0013</td>\n    </tr>\n    <tr>\n      <th>8</th>\n      <td>-0.1690</td>\n      <td>-0.2715</td>\n      <td>0.5018</td>\n      <td>0.0006</td>\n    </tr>\n  </tbody>\n</table>\n</div>"
     },
     "execution_count": 32,
     "metadata": {},
     "output_type": "execute_result"
    }
   ],
   "source": [
    "result"
   ],
   "metadata": {
    "collapsed": false,
    "pycharm": {
     "name": "#%%\n"
    }
   }
  },
  {
   "cell_type": "code",
   "execution_count": 43,
   "outputs": [
    {
     "name": "stdout",
     "output_type": "stream",
     "text": [
      "\\begin{tabular}[|l|*{4}{c|}] \\hline\n",
      "  $x_1^{(k)} & x_2^{(k)} & x_3^{(k)}$ & $\\Vert & x^{(k)}-x^{(k-1)} & \\Vert & $\\\\ \\hline\n",
      "  0 & 0.0000 & 0.0000 & 0.0000 & 1.0000\\\\ \\hline\n",
      "  1 & -0.0318 & -0.1116 & 0.4615 & 0.4615\\\\ \\hline\n",
      "  2 & -0.0970 & -0.2056 & 0.4754 & 0.0940\\\\ \\hline\n",
      "  3 & -0.1392 & -0.2434 & 0.4911 & 0.0422\\\\ \\hline\n",
      "  4 & -0.1564 & -0.2597 & 0.4973 & 0.0172\\\\ \\hline\n",
      "  5 & -0.1639 & -0.2667 & 0.5000 & 0.0075\\\\ \\hline\n",
      "  6 & -0.1671 & -0.2697 & 0.5011 & 0.0032\\\\ \\hline\n",
      "  7 & -0.1684 & -0.2709 & 0.5016 & 0.0013\\\\ \\hline\n",
      "  8 & -0.1690 & -0.2715 & 0.5018 & 0.0006\\\\ \\hline\n",
      "\\end{tabular}\n"
     ]
    }
   ],
   "source": [
    "print(tabular(result))"
   ],
   "metadata": {
    "collapsed": false,
    "pycharm": {
     "name": "#%%\n"
    }
   }
  },
  {
   "cell_type": "code",
   "execution_count": 35,
   "outputs": [],
   "source": [
    "def bmatrix(a):\n",
    "    \"\"\"Returns a LaTeX bmatrix\n",
    "\n",
    "    :a: numpy array\n",
    "    :returns: LaTeX bmatrix as a string\n",
    "    \"\"\"\n",
    "    if len(a.shape) > 2:\n",
    "        raise ValueError('bmatrix can at most display two dimensions')\n",
    "    lines = str(a).replace('[', '').replace(']', '').splitlines()\n",
    "    rv = [r'\\begin{pmatrix}']\n",
    "    rv += ['  ' + ' & '.join(l.split()) + r'\\\\' for l in lines]\n",
    "    rv +=  [r'\\end{pmatrix}']\n",
    "    return '\\n'.join(rv)"
   ],
   "metadata": {
    "collapsed": false,
    "pycharm": {
     "name": "#%%\n"
    }
   }
  },
  {
   "cell_type": "code",
   "execution_count": 34,
   "outputs": [],
   "source": [
    "check = np.array([[5.4, -6.2, -0.5], [3.4, 2.3, 0.8], [2.4, -1.1, 3.8]])"
   ],
   "metadata": {
    "collapsed": false,
    "pycharm": {
     "name": "#%%\n"
    }
   }
  },
  {
   "cell_type": "code",
   "execution_count": 44,
   "outputs": [
    {
     "name": "stdout",
     "output_type": "stream",
     "text": [
      "\\begin{pmatrix}\n",
      "  0.5241 & -0.8051 & 1.7961\\\\\n",
      "\\end{pmatrix}\n"
     ]
    }
   ],
   "source": [
    "print(bmatrix(np.round(check @ (np.round(result.iloc[-1][:3], 3) - 0.001).T ,4)))"
   ],
   "metadata": {
    "collapsed": false,
    "pycharm": {
     "name": "#%%\n"
    }
   }
  },
  {
   "cell_type": "code",
   "execution_count": null,
   "outputs": [],
   "source": [],
   "metadata": {
    "collapsed": false,
    "pycharm": {
     "name": "#%%\n"
    }
   }
  },
  {
   "cell_type": "markdown",
   "source": [],
   "metadata": {
    "collapsed": false,
    "pycharm": {
     "name": "#%% md\n"
    }
   }
  },
  {
   "cell_type": "code",
   "execution_count": 269,
   "outputs": [
    {
     "data": {
      "text/plain": "x1   -0.169\nx2   -0.271\nx3    0.502\nName: 14, dtype: float64"
     },
     "execution_count": 269,
     "metadata": {},
     "output_type": "execute_result"
    }
   ],
   "source": [
    "np.round(result.iloc[-1][:3], 3).T"
   ],
   "metadata": {
    "collapsed": false,
    "pycharm": {
     "name": "#%%\n"
    }
   }
  },
  {
   "cell_type": "code",
   "execution_count": 263,
   "outputs": [
    {
     "data": {
      "text/plain": "array([ 0.5166, -0.7963,  1.8001])"
     },
     "execution_count": 263,
     "metadata": {},
     "output_type": "execute_result"
    }
   ],
   "source": [
    "np.round(check @ np.round(result.iloc[-1][:3], 3), 4)"
   ],
   "metadata": {
    "collapsed": false,
    "pycharm": {
     "name": "#%%\n"
    }
   }
  },
  {
   "cell_type": "code",
   "execution_count": null,
   "outputs": [],
   "source": [
    "bmat"
   ],
   "metadata": {
    "collapsed": false,
    "pycharm": {
     "name": "#%%\n"
    }
   }
  },
  {
   "cell_type": "code",
   "execution_count": 135,
   "outputs": [],
   "source": [
    "test = np.array([[4.5, -1.8, 3.6], [3.1, 2.3, -1.2], [1.8, 2.5, 4.6]])\n",
    "\n",
    "ans = np.array([0.248, 1.115, -0.225]).T"
   ],
   "metadata": {
    "collapsed": false,
    "pycharm": {
     "name": "#%%\n"
    }
   }
  },
  {
   "cell_type": "code",
   "execution_count": 136,
   "outputs": [
    {
     "data": {
      "text/plain": "array([-1.701 ,  3.6033,  2.1989])"
     },
     "execution_count": 136,
     "metadata": {},
     "output_type": "execute_result"
    }
   ],
   "source": [
    "test @ ans"
   ],
   "metadata": {
    "collapsed": false,
    "pycharm": {
     "name": "#%%\n"
    }
   }
  }
 ],
 "metadata": {
  "kernelspec": {
   "display_name": "Python 3",
   "language": "python",
   "name": "python3"
  },
  "language_info": {
   "codemirror_mode": {
    "name": "ipython",
    "version": 2
   },
   "file_extension": ".py",
   "mimetype": "text/x-python",
   "name": "python",
   "nbconvert_exporter": "python",
   "pygments_lexer": "ipython2",
   "version": "2.7.6"
  }
 },
 "nbformat": 4,
 "nbformat_minor": 0
}